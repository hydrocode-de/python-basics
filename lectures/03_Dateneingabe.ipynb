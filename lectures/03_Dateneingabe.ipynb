{
 "cells": [
  {
   "cell_type": "markdown",
   "id": "ef73a094",
   "metadata": {},
   "source": [
    "# Dateneingabe\n",
    "\n",
    "Python bietet zahlreiche Möglichkeiten Daten zu erfassen und zu verarbeiten. Vier wichtige Bereiche umfassen hierbei:\n",
    "\n",
    "1. direkte Benutzereingaben\n",
    "2. Einlesen von Dateien\n",
    "3. Übergabeparameter und Umgebungsvariablen\n",
    "4. Datenbank-Verbindungen\n",
    "\n",
    "Ein Grund für die starke Verbreitung von Python ist, dass in jedem der vier Bereiche gleich mehrere Pakete zur Verfügung stehen und Python überall so flexibel ist wie kaum eine andere Sprache. Das macht Python für die Datenverarbeitung besonders geeignet."
   ]
  },
  {
   "cell_type": "markdown",
   "id": "2edbb085",
   "metadata": {},
   "source": [
    "## direkte Eingaben:\n",
    "\n",
    "Dieser Bereich ist heute eher weniger von Bedeutung, war aber einmal der wichtigste Interkationsweg. Vorteil der direkten Eingabe ist eine schnelle und direkte Umsetung, Nachteil ist die fehlende Automatisierbarkeit."
   ]
  },
  {
   "cell_type": "code",
   "execution_count": null,
   "id": "ea157130",
   "metadata": {},
   "outputs": [],
   "source": [
    "a = input('Bitte gib irgendwas ein: ')\n",
    "\n",
    "try:\n",
    "    a = int(a)\n",
    "except ValueError:\n",
    "    a = a\n",
    "\n",
    "\n",
    "print(f\"Eingabe: {a}\")\n",
    "print(f\"Typ:     {type(a)}\")\n",
    "\n",
    "#try:\n"
   ]
  },
  {
   "cell_type": "markdown",
   "id": "349e0e1e",
   "metadata": {},
   "source": [
    "Außerdem gibt es installierbare Pakete, die einfache Konsolen-Menüs erstellen können:"
   ]
  },
  {
   "cell_type": "code",
   "execution_count": null,
   "id": "b2672d89",
   "metadata": {},
   "outputs": [],
   "source": [
    "!pip install pick\n",
    "!pip install console-menu"
   ]
  },
  {
   "cell_type": "code",
   "execution_count": null,
   "id": "3d46565f",
   "metadata": {},
   "outputs": [],
   "source": [
    "from pick import pick\n",
    "\n",
    "# option, index = pick(['Windows', 'Mac', 'Linux'], 'Please choose your os')"
   ]
  },
  {
   "cell_type": "markdown",
   "id": "07623b25",
   "metadata": {},
   "source": [
    "*pick kann im Jupyter Notebook nicht ausgeführt werden. Starte eine IPython Konsole hierfür.*"
   ]
  },
  {
   "cell_type": "code",
   "execution_count": null,
   "id": "8a0565a6",
   "metadata": {},
   "outputs": [],
   "source": [
    "from consolemenu import SelectionMenu\n",
    "\n",
    "options = ['Linux', 'Mac', 'Windows']\n",
    "menu = SelectionMenu(options, 'Konfigurator', 'Select your os')\n",
    "menu.show()\n",
    "\n",
    "print(f\"Deine Eingabe: {options[menu.selected_option]}\")"
   ]
  },
  {
   "cell_type": "markdown",
   "id": "448ef9c1",
   "metadata": {},
   "source": [
    "*console-menu hat sehr vielseitige Optionen. Es kann Menüs verschachteln oder auch optionen zur Ausführung von Skripten anzeigen.*"
   ]
  },
  {
   "cell_type": "markdown",
   "id": "1456d092",
   "metadata": {},
   "source": [
    "## Lesen und Schreiben von Dateien\n",
    "\n",
    "Dateien können einfach mittels `open` befehl geöffnet werden. Die Funktion gibt ein Objekt zurück das Methoden zum lesen und Schreiben bietet. In Python ist es auch mögliche *File-like objects* im Arbeitsspeicher anzulegen. Das Interface ist weitgehend das selbe."
   ]
  },
  {
   "cell_type": "code",
   "execution_count": null,
   "id": "078a62bd",
   "metadata": {},
   "outputs": [],
   "source": [
    "file = open('./data/test.log', 'w')\n",
    "\n",
    "file.write('Log entry 1\\n')\n",
    "file.close()"
   ]
  },
  {
   "cell_type": "code",
   "execution_count": null,
   "id": "4212b1d6",
   "metadata": {},
   "outputs": [],
   "source": [
    "from datetime import datetime as dt\n",
    "\n",
    "with open('data/test.log', 'a') as file:\n",
    "    file.write(f\"[{dt.now().isoformat()}]: Everything crashed again\\n\")"
   ]
  },
  {
   "cell_type": "code",
   "execution_count": null,
   "id": "08d2a80f",
   "metadata": {},
   "outputs": [],
   "source": [
    "with open('data/test.log', 'r') as f:\n",
    "    content = f.read()\n",
    "\n",
    "content"
   ]
  },
  {
   "cell_type": "code",
   "execution_count": null,
   "id": "bb60268b",
   "metadata": {},
   "outputs": [],
   "source": [
    "print(content)"
   ]
  },
  {
   "cell_type": "code",
   "execution_count": null,
   "id": "1cf3742c",
   "metadata": {},
   "outputs": [],
   "source": [
    "lines = content.split('\\n')\n",
    "print(f\"Found {len(lines)} lines\")"
   ]
  },
  {
   "cell_type": "code",
   "execution_count": null,
   "id": "3583a105",
   "metadata": {},
   "outputs": [],
   "source": [
    "print(lines)"
   ]
  },
  {
   "cell_type": "code",
   "execution_count": null,
   "id": "fbd725fd",
   "metadata": {},
   "outputs": [],
   "source": [
    "csv_lines = [\"time,message\"]\n",
    "\n",
    "for line in lines:\n",
    "    if not ':' in line:\n",
    "        continue\n",
    "    chunks = line.split(': ')\n",
    "    #print(chunks)\n",
    "    if len(chunks) != 2:\n",
    "        print(f'Zu viele chunks: {len(chunks)}')\n",
    "        continue\n",
    "\n",
    "    line_txt = ','.join([chunks[0].strip('[]'), chunks[1].strip()])\n",
    "    csv_lines.append(line_txt)\n",
    "\n",
    "csv_txt = '\\n'.join(csv_lines)\n",
    "\n",
    "with open('./data/messages.csv', 'w') as f:\n",
    "    f.write(csv_txt)\n"
   ]
  },
  {
   "cell_type": "markdown",
   "id": "bccc5b44",
   "metadata": {},
   "source": [
    "*Why does the code above not work?*"
   ]
  },
  {
   "cell_type": "markdown",
   "id": "3c272c5a",
   "metadata": {},
   "source": [
    "## Umgebungsvariablen\n",
    "\n",
    "Mit Python kann sehr einfach auf Umgebungsvariablen zugegriffen, oder diese manipuliert werden. Das Standardpaket `os` bietet eine Mapping auf alle Umgebungsvariablen"
   ]
  },
  {
   "cell_type": "code",
   "execution_count": 1,
   "id": "c9c4eb42",
   "metadata": {},
   "outputs": [],
   "source": [
    "import os"
   ]
  },
  {
   "cell_type": "code",
   "execution_count": null,
   "id": "d26cefc8",
   "metadata": {},
   "outputs": [],
   "source": [
    "os.environ"
   ]
  },
  {
   "cell_type": "code",
   "execution_count": null,
   "id": "901b7b83",
   "metadata": {},
   "outputs": [],
   "source": [
    "os.getenv('PATHS', 'na')"
   ]
  },
  {
   "cell_type": "code",
   "execution_count": 11,
   "id": "77dd028e",
   "metadata": {},
   "outputs": [],
   "source": [
    "os.environ['DEBUG'] = 'low'"
   ]
  },
  {
   "cell_type": "code",
   "execution_count": 12,
   "id": "5486d7fb",
   "metadata": {},
   "outputs": [
    {
     "name": "stdout",
     "output_type": "stream",
     "text": [
      "Wir sind am debuggen\n"
     ]
    }
   ],
   "source": [
    "DEBUG = os.getenv('DEBUG')\n",
    "\n",
    "if DEBUG:\n",
    "    if DEBUG == 'low':\n",
    "        print('Wir sind am debuggen')\n",
    "    else:\n",
    "        print('Wir sind viel am debuggen')"
   ]
  }
 ],
 "metadata": {
  "interpreter": {
   "hash": "07efdcd4b820c98a756949507a4d29d7862823915ec7477944641bea022f4f62"
  },
  "kernelspec": {
   "display_name": "Python 3",
   "language": "python",
   "name": "python3"
  },
  "language_info": {
   "codemirror_mode": {
    "name": "ipython",
    "version": 3
   },
   "file_extension": ".py",
   "mimetype": "text/x-python",
   "name": "python",
   "nbconvert_exporter": "python",
   "pygments_lexer": "ipython3",
   "version": "3.8.5"
  }
 },
 "nbformat": 4,
 "nbformat_minor": 5
}
