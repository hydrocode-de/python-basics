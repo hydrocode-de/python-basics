{
 "cells": [
  {
   "cell_type": "markdown",
   "source": [
    "# Dateneingabe\n",
    "\n",
    "Python bietet zahlreiche Möglichkeiten Daten zu erfassen und zu verarbeiten. Vier wichtige Bereiche umfassen hierbei:\n",
    "\n",
    "1. direkte Benutzereingaben\n",
    "2. Einlesen von Dateien\n",
    "3. Übergabeparameter und Umgebungsvariablen\n",
    "4. Datenbank-Verbindungen\n",
    "\n",
    "Ein Grund für die starke Verbreitung von Python ist, dass in jedem der vier Bereiche gleich mehrere Pakete zur Verfügung stehen und Python überall so flexibel ist wie kaum eine andere Sprache. Das macht Python für die Datenverarbeitung besonders geeignet."
   ],
   "metadata": {}
  },
  {
   "cell_type": "markdown",
   "source": [
    "## direkte Eingaben:\n",
    "\n",
    "Dieser Bereich ist heute eher weniger von Bedeutung, war aber einmal der wichtigste Interkationsweg. Vorteil der direkten Eingabe ist eine schnelle und direkte Umsetung, Nachteil ist die fehlende Automatisierbarkeit."
   ],
   "metadata": {}
  },
  {
   "cell_type": "code",
   "execution_count": null,
   "source": [
    "a = input('Bitte gib irgendwas ein: ')\r\n",
    "\r\n",
    "print(f\"Eingabe: {a}\")\r\n",
    "print(f\"Typ:     {type(a)}\")"
   ],
   "outputs": [],
   "metadata": {}
  },
  {
   "cell_type": "markdown",
   "source": [
    "Außerdem gibt es installierbare Pakete, die einfache Konsolen-Menüs erstellen können:"
   ],
   "metadata": {}
  },
  {
   "cell_type": "code",
   "execution_count": null,
   "source": [
    "!pip install pick\r\n",
    "!pip install console-menu"
   ],
   "outputs": [],
   "metadata": {}
  },
  {
   "cell_type": "code",
   "execution_count": null,
   "source": [
    "from pick import pick\r\n",
    "\r\n",
    "# option, index = pick(['Windows', 'Mac', 'Linux'], 'Please choose your os')"
   ],
   "outputs": [],
   "metadata": {}
  },
  {
   "cell_type": "markdown",
   "source": [
    "*pick kann im Jupyter Notebook nicht ausgeführt werden. Starte eine IPython Konsole hierfür.*"
   ],
   "metadata": {}
  },
  {
   "cell_type": "code",
   "execution_count": null,
   "source": [
    "from consolemenu import SelectionMenu\r\n",
    "\r\n",
    "options = ['Windows', 'Mac', 'Windows']\r\n",
    "menu = SelectionMenu(options, 'Konfigurator', 'Select your os')\r\n",
    "menu.show()\r\n",
    "\r\n",
    "print(f\"Deine Eingabe: {options[menu.selected_option]}\")"
   ],
   "outputs": [],
   "metadata": {}
  },
  {
   "cell_type": "markdown",
   "source": [
    "*console-menu hat sehr vielseitige Optionen. Es kann Menüs verschachteln oder auch optionen zur Ausführung von Skripten anzeigen.*"
   ],
   "metadata": {}
  },
  {
   "cell_type": "markdown",
   "source": [
    "## Lesen und Schreiben von Dateien\n",
    "\n",
    "Dateien können einfach mittels `open` befehl geöffnet werden. Die Funktion gibt ein Objekt zurück das Methoden zum lesen und Schreiben bietet. In Python ist es auch mögliche *File-like objects* im Arbeitsspeicher anzulegen. Das Interface ist weitgehend das selbe."
   ],
   "metadata": {}
  },
  {
   "cell_type": "code",
   "execution_count": null,
   "source": [
    "file = open('data/test.log', 'w')\r\n",
    "\r\n",
    "file.write('Log entry 1\\n')\r\n",
    "file.close()"
   ],
   "outputs": [],
   "metadata": {}
  },
  {
   "cell_type": "code",
   "execution_count": null,
   "source": [
    "from datetime import datetime as dt\r\n",
    "\r\n",
    "with open('data/test.log', 'a') as f:\r\n",
    "    f.write(f\"[{dt.now().isoformat()}]: Something bad happended\\n\")"
   ],
   "outputs": [],
   "metadata": {}
  },
  {
   "cell_type": "code",
   "execution_count": null,
   "source": [
    "with open('data/test.log', 'r') as f:\r\n",
    "    content = f.read()\r\n",
    "\r\n",
    "print(content)"
   ],
   "outputs": [],
   "metadata": {}
  },
  {
   "cell_type": "code",
   "execution_count": null,
   "source": [
    "lines = content.split('\\n')\r\n",
    "print(f\"Found {len(lines)} lines\")"
   ],
   "outputs": [],
   "metadata": {}
  },
  {
   "cell_type": "code",
   "execution_count": null,
   "source": [
    "print(lines)"
   ],
   "outputs": [],
   "metadata": {}
  },
  {
   "cell_type": "code",
   "execution_count": null,
   "source": [
    "csv_lines = [\"time,message\"]\r\n",
    "\r\n",
    "for line in lines:\r\n",
    "    if not ':' in line:\r\n",
    "        continue\r\n",
    "    chunks = line.split(':')\r\n",
    "    if len(chunks) != 2:\r\n",
    "        continue\r\n",
    "\r\n",
    "    line_txt = ','.join([chunks[0].strip('[]'), chunks[1].strip()])\r\n",
    "    csv_lines.append(line_txt)\r\n",
    "\r\n",
    "csv_txt = '\\n'.join(csv_lines)\r\n",
    "print(csv_txt)"
   ],
   "outputs": [],
   "metadata": {}
  },
  {
   "cell_type": "markdown",
   "source": [
    "*Why does the code above not work?*"
   ],
   "metadata": {}
  },
  {
   "cell_type": "markdown",
   "source": [
    "## Umgebungsvariablen\r\n",
    "\r\n",
    "Mit Python kann sehr einfach auf Umgebungsvariablen zugegriffen, oder diese manipuliert werden. Das Standardpaket `os` bietet eine Mapping auf alle Umgebungsvariablen"
   ],
   "metadata": {}
  },
  {
   "cell_type": "code",
   "execution_count": null,
   "source": [
    "import os"
   ],
   "outputs": [],
   "metadata": {}
  },
  {
   "cell_type": "code",
   "execution_count": 1,
   "source": [
    "os.environ"
   ],
   "outputs": [
    {
     "output_type": "execute_result",
     "data": {
      "text/plain": [
       "environ{'ALLUSERSPROFILE': 'C:\\\\ProgramData',\n",
       "        'APPDATA': 'C:\\\\Users\\\\mirko_6piaa4b\\\\AppData\\\\Roaming',\n",
       "        'APPLICATION_INSIGHTS_NO_DIAGNOSTIC_CHANNEL': 'true',\n",
       "        'CHOCOLATEYINSTALL': 'C:\\\\ProgramData\\\\chocolatey',\n",
       "        'CHOCOLATEYLASTPATHUPDATE': 'So Jan 27 15:41:05 2019',\n",
       "        'CHROME_CRASHPAD_PIPE_NAME': '\\\\\\\\.\\\\pipe\\\\crashpad_912_TGRGCQBEALCTEOAR',\n",
       "        'COMMONPROGRAMFILES': 'C:\\\\Program Files\\\\Common Files',\n",
       "        'COMMONPROGRAMFILES(X86)': 'C:\\\\Program Files (x86)\\\\Common Files',\n",
       "        'COMMONPROGRAMW6432': 'C:\\\\Program Files\\\\Common Files',\n",
       "        'COMPUTERNAME': 'DESKTOP-8Q3ISMH',\n",
       "        'COMSPEC': 'C:\\\\WINDOWS\\\\system32\\\\cmd.exe',\n",
       "        'CONDA_DEFAULT_ENV': 'base',\n",
       "        'CONDA_EXE': 'D:\\\\Anaconda\\\\condabin\\\\..\\\\Scripts\\\\conda.exe',\n",
       "        'CONDA_PREFIX': 'D:\\\\Anaconda',\n",
       "        'CONDA_PROMPT_MODIFIER': '(base) ',\n",
       "        'CONDA_PYTHON_EXE': 'D:\\\\Anaconda\\\\python.exe',\n",
       "        'CONDA_SHLVL': '1',\n",
       "        'DASHLANE_DLL_DIR': 'C:\\\\Users\\\\mirko_6piaa4b\\\\AppData\\\\Roaming\\\\Dashlane\\\\6.1848.0.15588\\\\bin\\\\Firefox_Extension\\\\{442718d9-475e-452a-b3e1-fb1ee16b8e9f}\\\\components;C:\\\\Users\\\\mirko_6piaa4b\\\\AppData\\\\Roaming\\\\Dashlane\\\\6.1848.0.15588\\\\ucrt;C:\\\\Users\\\\mirko_6piaa4b\\\\AppData\\\\Roaming\\\\Dashlane\\\\6.1848.0.15588\\\\bin\\\\Qt;C:\\\\Users\\\\mirko_6piaa4b\\\\AppData\\\\Roaming\\\\Dashlane\\\\6.1848.0.15588\\\\bin\\\\Ssl',\n",
       "        'DRIVERDATA': 'C:\\\\Windows\\\\System32\\\\Drivers\\\\DriverData',\n",
       "        'ELECTRON_RUN_AS_NODE': '1',\n",
       "        'GDAL_DATA': 'C:\\\\Program Files\\\\PostgreSQL\\\\12\\\\gdal-data',\n",
       "        'HOMEDRIVE': 'C:',\n",
       "        'HOMEPATH': '\\\\Users\\\\mirko_6piaa4b',\n",
       "        'LOCALAPPDATA': 'C:\\\\Users\\\\mirko_6piaa4b\\\\AppData\\\\Local',\n",
       "        'LOGONSERVER': '\\\\\\\\DESKTOP-8Q3ISMH',\n",
       "        'NUMBER_OF_PROCESSORS': '4',\n",
       "        'OCTAVE_EXECUTABLE': 'D:\\\\Programme\\\\Octave-5.1.0.0\\\\mingw64\\\\bin\\\\octave-cli.exe',\n",
       "        'ONEDRIVE': 'C:\\\\Users\\\\mirko_6piaa4b\\\\OneDrive',\n",
       "        'ONEDRIVECONSUMER': 'C:\\\\Users\\\\mirko_6piaa4b\\\\OneDrive',\n",
       "        'ORIGINAL_XDG_CURRENT_DESKTOP': 'undefined',\n",
       "        'OS': 'Windows_NT',\n",
       "        'PATH': 'D:\\\\Anaconda;D:\\\\Anaconda\\\\Library\\\\mingw-w64\\\\bin;D:\\\\Anaconda\\\\Library\\\\usr\\\\bin;D:\\\\Anaconda\\\\Library\\\\bin;D:\\\\Anaconda\\\\Scripts;D:\\\\Anaconda\\\\bin;D:\\\\Anaconda\\\\condabin;C:\\\\Python38\\\\Scripts;C:\\\\Python38;C:\\\\Windows\\\\system32;C:\\\\Windows;C:\\\\Windows\\\\System32\\\\Wbem;C:\\\\Windows\\\\System32\\\\WindowsPowerShell\\\\v1.0;C:\\\\Program Files (x86)\\\\NVIDIA Corporation\\\\PhysX\\\\Common;C:\\\\WINDOWS\\\\system32;C:\\\\WINDOWS;C:\\\\WINDOWS\\\\System32\\\\Wbem;C:\\\\WINDOWS\\\\System32\\\\WindowsPowerShell\\\\v1.0;C:\\\\WINDOWS\\\\System32\\\\OpenSSH;C:\\\\Program Files\\\\Git\\\\cmd;C:\\\\Program Files\\\\NVIDIA Corporation\\\\NVIDIA NvDLISR;C:\\\\ProgramData\\\\chocolatey\\\\bin;C:\\\\Program Files\\\\nodejs;C:\\\\Program Files\\\\MiKTeX 2.9\\\\miktex\\\\bin\\\\x64;C:\\\\WINDOWS\\\\system32;C:\\\\WINDOWS;C:\\\\WINDOWS\\\\System32\\\\Wbem;C:\\\\WINDOWS\\\\System32\\\\WindowsPowerShell\\\\v1.0;C:\\\\WINDOWS\\\\System32\\\\OpenSSH;C:\\\\Program Files\\\\Docker\\\\Docker\\\\resources\\\\bin;C:\\\\ProgramData\\\\DockerDesktop\\\\version-bin;C:\\\\Users\\\\mirko_6piaa4b\\\\.cargo\\\\bin;C:\\\\Users\\\\mirko_6piaa4b\\\\AppData\\\\Local\\\\Microsoft\\\\WindowsApps;D:\\\\Programme\\\\Exercism;C:\\\\Users\\\\mirko_6piaa4b\\\\AppData\\\\Local\\\\GitHubDesktop\\\\bin;C:\\\\Users\\\\mirko_6piaa4b\\\\AppData\\\\Local\\\\Programs\\\\Microsoft VS Code\\\\bin;C:\\\\Users\\\\mirko_6piaa4b\\\\AppData\\\\Roaming\\\\npm;C:\\\\Users\\\\mirko_6piaa4b\\\\AppData\\\\Local\\\\Microsoft\\\\WindowsApps;C:\\\\Users\\\\mirko_6piaa4b\\\\AppData\\\\Local\\\\atom\\\\bin;C:\\\\Users\\\\mirko_6piaa4b\\\\AppData\\\\Local\\\\Google\\\\Cloud SDK\\\\google-cloud-sdk\\\\bin;C:\\\\Users\\\\mirko_6piaa4b\\\\AppData\\\\Local\\\\Pandoc',\n",
       "        'PATHEXT': '.COM;.EXE;.BAT;.CMD;.VBS;.VBE;.JS;.JSE;.WSF;.WSH;.MSC;.PY;.PYW',\n",
       "        'POSTGIS_ENABLE_OUTDB_RASTERS': '1',\n",
       "        'POSTGIS_GDAL_ENABLED_DRIVERS': 'GTiff PNG JPEG GIF XYZ DTED USGSDEM AAIGrid',\n",
       "        'PROCESSOR_ARCHITECTURE': 'AMD64',\n",
       "        'PROCESSOR_IDENTIFIER': 'Intel64 Family 6 Model 60 Stepping 3, GenuineIntel',\n",
       "        'PROCESSOR_LEVEL': '6',\n",
       "        'PROCESSOR_REVISION': '3c03',\n",
       "        'PROGRAMDATA': 'C:\\\\ProgramData',\n",
       "        'PROGRAMFILES': 'C:\\\\Program Files',\n",
       "        'PROGRAMFILES(X86)': 'C:\\\\Program Files (x86)',\n",
       "        'PROGRAMW6432': 'C:\\\\Program Files',\n",
       "        'PROMPT': '(base) $P$G',\n",
       "        'PSMODULEPATH': 'C:\\\\Users\\\\mirko_6piaa4b\\\\Documents\\\\WindowsPowerShell\\\\Modules;C:\\\\Users\\\\mirko_6piaa4b\\\\AppData\\\\Local\\\\Google\\\\Cloud SDK\\\\google-cloud-sdk\\\\platform\\\\PowerShell',\n",
       "        'PUBLIC': 'C:\\\\Users\\\\Public',\n",
       "        'PYTHONIOENCODING': 'utf-8',\n",
       "        'PYTHONPATH': 'c:\\\\Users\\\\mirko_6piaa4b\\\\.vscode\\\\extensions\\\\ms-toolsai.jupyter-2021.8.1054968649\\\\pythonFiles;c:\\\\Users\\\\mirko_6piaa4b\\\\.vscode\\\\extensions\\\\ms-toolsai.jupyter-2021.8.1054968649\\\\pythonFiles\\\\lib\\\\python',\n",
       "        'PYTHONUNBUFFERED': '1',\n",
       "        'SESSIONNAME': 'Console',\n",
       "        'SYSTEMDRIVE': 'C:',\n",
       "        'SYSTEMROOT': 'C:\\\\WINDOWS',\n",
       "        'TEMP': 'C:\\\\Users\\\\MIRKO_~1\\\\AppData\\\\Local\\\\Temp',\n",
       "        'TMP': 'C:\\\\Users\\\\MIRKO_~1\\\\AppData\\\\Local\\\\Temp',\n",
       "        'USERDOMAIN': 'DESKTOP-8Q3ISMH',\n",
       "        'USERDOMAIN_ROAMINGPROFILE': 'DESKTOP-8Q3ISMH',\n",
       "        'USERNAME': 'mirko_6piaa4b',\n",
       "        'USERPROFILE': 'C:\\\\Users\\\\mirko_6piaa4b',\n",
       "        'VSCODE_AMD_ENTRYPOINT': 'vs/workbench/services/extensions/node/extensionHostProcess',\n",
       "        'VSCODE_BROWSER_CODE_LOADING': 'bypassHeatCheck',\n",
       "        'VSCODE_CODE_CACHE_PATH': 'C:\\\\Users\\\\mirko_6piaa4b\\\\AppData\\\\Roaming\\\\Code\\\\CachedData\\\\c3f126316369cd610563c75b1b1725e0679adfb3',\n",
       "        'VSCODE_CWD': 'C:\\\\Users\\\\mirko_6piaa4b\\\\AppData\\\\Local\\\\Programs\\\\Microsoft VS Code',\n",
       "        'VSCODE_HANDLES_UNCAUGHT_ERRORS': 'true',\n",
       "        'VSCODE_IPC_HOOK': '\\\\\\\\.\\\\pipe\\\\c28a843b83ef82de4f935db61c1e505c-1.58.2-main-sock',\n",
       "        'VSCODE_IPC_HOOK_EXTHOST': '\\\\\\\\.\\\\pipe\\\\vscode-ipc-8808a719-7f39-409d-9c2f-b58f4e4f21dd-sock',\n",
       "        'VSCODE_LOG_NATIVE': 'false',\n",
       "        'VSCODE_LOG_STACK': 'false',\n",
       "        'VSCODE_NLS_CONFIG': '{\"locale\":\"de\",\"availableLanguages\":{},\"_languagePackSupport\":true}',\n",
       "        'VSCODE_PID': '912',\n",
       "        'VSCODE_PIPE_LOGGING': 'true',\n",
       "        'VSCODE_VERBOSE_LOGGING': 'true',\n",
       "        'WINDIR': 'C:\\\\WINDOWS',\n",
       "        'JPY_INTERRUPT_EVENT': '556',\n",
       "        'IPY_INTERRUPT_EVENT': '556',\n",
       "        'JPY_PARENT_PID': '568',\n",
       "        'TERM': 'xterm-color',\n",
       "        'CLICOLOR': '1',\n",
       "        'PAGER': 'cat',\n",
       "        'GIT_PAGER': 'cat',\n",
       "        'MPLBACKEND': 'module://ipykernel.pylab.backend_inline'}"
      ]
     },
     "metadata": {},
     "execution_count": 1
    }
   ],
   "metadata": {}
  },
  {
   "cell_type": "code",
   "execution_count": 3,
   "source": [
    "os.getenv('PATH')"
   ],
   "outputs": [
    {
     "output_type": "execute_result",
     "data": {
      "text/plain": [
       "'D:\\\\Anaconda;D:\\\\Anaconda\\\\Library\\\\mingw-w64\\\\bin;D:\\\\Anaconda\\\\Library\\\\usr\\\\bin;D:\\\\Anaconda\\\\Library\\\\bin;D:\\\\Anaconda\\\\Scripts;D:\\\\Anaconda\\\\bin;D:\\\\Anaconda\\\\condabin;C:\\\\Python38\\\\Scripts;C:\\\\Python38;C:\\\\Windows\\\\system32;C:\\\\Windows;C:\\\\Windows\\\\System32\\\\Wbem;C:\\\\Windows\\\\System32\\\\WindowsPowerShell\\\\v1.0;C:\\\\Program Files (x86)\\\\NVIDIA Corporation\\\\PhysX\\\\Common;C:\\\\WINDOWS\\\\system32;C:\\\\WINDOWS;C:\\\\WINDOWS\\\\System32\\\\Wbem;C:\\\\WINDOWS\\\\System32\\\\WindowsPowerShell\\\\v1.0;C:\\\\WINDOWS\\\\System32\\\\OpenSSH;C:\\\\Program Files\\\\Git\\\\cmd;C:\\\\Program Files\\\\NVIDIA Corporation\\\\NVIDIA NvDLISR;C:\\\\ProgramData\\\\chocolatey\\\\bin;C:\\\\Program Files\\\\nodejs;C:\\\\Program Files\\\\MiKTeX 2.9\\\\miktex\\\\bin\\\\x64;C:\\\\WINDOWS\\\\system32;C:\\\\WINDOWS;C:\\\\WINDOWS\\\\System32\\\\Wbem;C:\\\\WINDOWS\\\\System32\\\\WindowsPowerShell\\\\v1.0;C:\\\\WINDOWS\\\\System32\\\\OpenSSH;C:\\\\Program Files\\\\Docker\\\\Docker\\\\resources\\\\bin;C:\\\\ProgramData\\\\DockerDesktop\\\\version-bin;C:\\\\Users\\\\mirko_6piaa4b\\\\.cargo\\\\bin;C:\\\\Users\\\\mirko_6piaa4b\\\\AppData\\\\Local\\\\Microsoft\\\\WindowsApps;D:\\\\Programme\\\\Exercism;C:\\\\Users\\\\mirko_6piaa4b\\\\AppData\\\\Local\\\\GitHubDesktop\\\\bin;C:\\\\Users\\\\mirko_6piaa4b\\\\AppData\\\\Local\\\\Programs\\\\Microsoft VS Code\\\\bin;C:\\\\Users\\\\mirko_6piaa4b\\\\AppData\\\\Roaming\\\\npm;C:\\\\Users\\\\mirko_6piaa4b\\\\AppData\\\\Local\\\\Microsoft\\\\WindowsApps;C:\\\\Users\\\\mirko_6piaa4b\\\\AppData\\\\Local\\\\atom\\\\bin;C:\\\\Users\\\\mirko_6piaa4b\\\\AppData\\\\Local\\\\Google\\\\Cloud SDK\\\\google-cloud-sdk\\\\bin;C:\\\\Users\\\\mirko_6piaa4b\\\\AppData\\\\Local\\\\Pandoc'"
      ]
     },
     "metadata": {},
     "execution_count": 3
    }
   ],
   "metadata": {}
  }
 ],
 "metadata": {
  "interpreter": {
   "hash": "07efdcd4b820c98a756949507a4d29d7862823915ec7477944641bea022f4f62"
  },
  "kernelspec": {
   "name": "python3",
   "display_name": "Python 3.7.6 64-bit ('base': conda)"
  },
  "language_info": {
   "codemirror_mode": {
    "name": "ipython",
    "version": 3
   },
   "file_extension": ".py",
   "mimetype": "text/x-python",
   "name": "python",
   "nbconvert_exporter": "python",
   "pygments_lexer": "ipython3",
   "version": "3.7.6"
  }
 },
 "nbformat": 4,
 "nbformat_minor": 5
}