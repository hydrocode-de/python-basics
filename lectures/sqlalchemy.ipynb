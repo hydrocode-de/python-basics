{
 "cells": [
  {
   "cell_type": "markdown",
   "id": "3f8491fc",
   "metadata": {},
   "source": [
    "# SQLAlchemy"
   ]
  },
  {
   "cell_type": "code",
   "execution_count": 3,
   "id": "37eb01a4",
   "metadata": {},
   "outputs": [
    {
     "name": "stdout",
     "output_type": "stream",
     "text": [
      "Requirement already satisfied: sqlalchemy in /home/mirko/anaconda3/lib/python3.8/site-packages (1.4.9)\n",
      "Requirement already satisfied: greenlet!=0.4.17 in /home/mirko/anaconda3/lib/python3.8/site-packages (from sqlalchemy) (1.0.0)\n"
     ]
    }
   ],
   "source": [
    "!pip install sqlalchemy"
   ]
  },
  {
   "cell_type": "code",
   "execution_count": 4,
   "id": "00a5ee5f",
   "metadata": {},
   "outputs": [],
   "source": [
    "import sqlalchemy as sa\n",
    "from sqlalchemy.ext.declarative import declarative_base"
   ]
  },
  {
   "cell_type": "code",
   "execution_count": 20,
   "id": "7f87d548",
   "metadata": {},
   "outputs": [],
   "source": [
    "Base = declarative_base()\n",
    "\n",
    "class Person(Base):\n",
    "    __tablename__ = 'persons'\n",
    "    \n",
    "    pid = sa.Column(sa.Integer, primary_key=True)\n",
    "    first_name = sa.Column(sa.String, nullable=False)\n",
    "    last_name = sa.Column(sa.String, nullable=False)\n",
    "    email = sa.Column(sa.String)\n",
    "    \n",
    "    def full_name(self, abbrev=False):\n",
    "        if abbrev:\n",
    "            return f\"{self.last_name}, {self.first_name[0]}.\"\n",
    "        return f\"{self.first_name} {self.last_name}\""
   ]
  },
  {
   "cell_type": "code",
   "execution_count": 23,
   "id": "a3aad70a",
   "metadata": {},
   "outputs": [],
   "source": [
    "mirko = Person(first_name='Mirko', last_name='Mälicke', email='mirko@hydrocode.de')\n",
    "said = Person(first_name='Zaid', last_name='El Hadouchi')"
   ]
  },
  {
   "cell_type": "code",
   "execution_count": 22,
   "id": "12f6ed1d",
   "metadata": {},
   "outputs": [
    {
     "data": {
      "text/plain": [
       "'Mälicke, M.'"
      ]
     },
     "execution_count": 22,
     "metadata": {},
     "output_type": "execute_result"
    }
   ],
   "source": [
    "mirko.full_name(abbrev=True)"
   ]
  },
  {
   "cell_type": "code",
   "execution_count": 26,
   "id": "f2cd2e27",
   "metadata": {},
   "outputs": [],
   "source": [
    "said.first_name = 'Said'"
   ]
  },
  {
   "cell_type": "code",
   "execution_count": 27,
   "id": "b5e86ba0",
   "metadata": {},
   "outputs": [
    {
     "data": {
      "text/plain": [
       "'Said El Hadouchi'"
      ]
     },
     "execution_count": 27,
     "metadata": {},
     "output_type": "execute_result"
    }
   ],
   "source": [
    "said.full_name()"
   ]
  },
  {
   "cell_type": "markdown",
   "id": "dc82ca5a",
   "metadata": {},
   "source": [
    "## Connection"
   ]
  },
  {
   "cell_type": "code",
   "execution_count": 28,
   "id": "4b7e268d",
   "metadata": {},
   "outputs": [],
   "source": [
    "from sqlalchemy import create_engine\n",
    "from sqlalchemy.orm import sessionmaker"
   ]
  },
  {
   "cell_type": "code",
   "execution_count": 34,
   "id": "cf39fe70",
   "metadata": {},
   "outputs": [],
   "source": [
    "engine = create_engine('sqlite:////home/mirko/Schreibtisch/monitor.db')\n",
    "Base.metadata.create_all(bind=engine)"
   ]
  },
  {
   "cell_type": "code",
   "execution_count": 35,
   "id": "68168a47",
   "metadata": {},
   "outputs": [],
   "source": [
    "Session = sessionmaker(bind=engine)\n",
    "session = Session()"
   ]
  },
  {
   "cell_type": "code",
   "execution_count": 36,
   "id": "705e3b52",
   "metadata": {
    "scrolled": false
   },
   "outputs": [],
   "source": [
    "session.add(mirko)\n",
    "session.add(said)\n",
    "session.commit()"
   ]
  },
  {
   "cell_type": "code",
   "execution_count": null,
   "id": "444dcb70",
   "metadata": {},
   "outputs": [],
   "source": []
  }
 ],
 "metadata": {
  "kernelspec": {
   "display_name": "Python 3",
   "language": "python",
   "name": "python3"
  },
  "language_info": {
   "codemirror_mode": {
    "name": "ipython",
    "version": 3
   },
   "file_extension": ".py",
   "mimetype": "text/x-python",
   "name": "python",
   "nbconvert_exporter": "python",
   "pygments_lexer": "ipython3",
   "version": "3.8.5"
  }
 },
 "nbformat": 4,
 "nbformat_minor": 5
}
