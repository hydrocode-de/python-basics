{
 "cells": [
  {
   "cell_type": "markdown",
   "source": [
    "# Klassen\r\n",
    "\r\n",
    "Zusammenfassung:\r\n",
    "\r\n",
    "* Klassen sind *Blaupausen* zur Erstellung eigener Objekte\r\n",
    "* Klassen definieren Attribute und Methoden\r\n",
    "* Attribute speichern Daten für jedes Objekt einer Klassen\r\n",
    "* Methoden definieren Funktionalität für ein Objekt\r\n",
    "* Methoden können vollkommen frei definiert werden, oder *Verhalten* gegenüber anderen Objekten definieren\r\n",
    "* Klassen können ihre Eigenschaften an *Child-Klassen* vererben\r\n",
    "* geerbte Eigenschaften können überschrieben werden"
   ],
   "metadata": {}
  },
  {
   "cell_type": "code",
   "execution_count": null,
   "source": [
    "# shortest class definition\r\n",
    "class A:\r\n",
    "    pass"
   ],
   "outputs": [],
   "metadata": {}
  },
  {
   "cell_type": "code",
   "execution_count": null,
   "source": [
    "a = A()"
   ],
   "outputs": [],
   "metadata": {}
  },
  {
   "cell_type": "code",
   "execution_count": null,
   "source": [
    "a.__init__"
   ],
   "outputs": [],
   "metadata": {}
  },
  {
   "cell_type": "code",
   "execution_count": null,
   "source": [
    "print(a)"
   ],
   "outputs": [],
   "metadata": {}
  },
  {
   "cell_type": "code",
   "execution_count": null,
   "source": [
    "b = A()\r\n",
    "a == b"
   ],
   "outputs": [],
   "metadata": {}
  },
  {
   "cell_type": "markdown",
   "source": [
    "## Initialisieren\r\n",
    "\r\n",
    "Es kann eine spezifische Methode definiert werden, die ein Objekt der jeweiligen Klasse *'zusammenbaut'*:"
   ],
   "metadata": {}
  },
  {
   "cell_type": "code",
   "execution_count": null,
   "source": [
    "class RemoteServer():\r\n",
    "    def __init__(self, url):\r\n",
    "        self.url = url"
   ],
   "outputs": [],
   "metadata": {}
  },
  {
   "cell_type": "markdown",
   "source": [
    "Methoden, die von zwei Unterstrichen umschlossen sind, sind spezielle Methoden, die das Verhalten der Objekte beinflusst.\r\n",
    "Diese Methoden sind von außerhalb der Klasse nicht aufrufbar. Selbes gilt für alle anderen Methoden, die mit zwei\r\n",
    "Unterstrichen beginnen.\r\n",
    "\r\n",
    "Methoden die mit einem Unterstrich beginnen sind zwar public, allderdings vom Entwickler nicht zur direkten Benutzung vorgesehen, weil sie z.B. ihren Rückgabewert oder ihre Signatur in Zukunft ändern können."
   ],
   "metadata": {}
  },
  {
   "cell_type": "code",
   "execution_count": null,
   "source": [
    "import requests\r\n",
    "import time\r\n",
    "\r\n",
    "class RemoteServer():\r\n",
    "    def __init__(self, url):\r\n",
    "        self.url = url\r\n",
    "\r\n",
    "    def __invoke(self):\r\n",
    "        response = requests.get(self.url)\r\n",
    "\r\n",
    "        return response\r\n",
    "\r\n",
    "    def _ping(self, tries=5):\r\n",
    "        for i in range(tries):\r\n",
    "            t1 = time.time()\r\n",
    "            resp = self.__invoke()\r\n",
    "            t2 = time.time()\r\n",
    "\r\n",
    "            successful = resp.status_code == 200\r\n",
    "\r\n",
    "            print(f\"[{i + 1}/{tries}] {'found' if successful else 'not found'} {round((t2 - t1) * 1000)}ms\")\r\n",
    "\r\n",
    "            time.sleep(1)\r\n"
   ],
   "outputs": [],
   "metadata": {}
  },
  {
   "cell_type": "code",
   "execution_count": null,
   "source": [
    "server = RemoteServer('https://hydrocode.de')\r\n",
    "\r\n",
    "server._ping()"
   ],
   "outputs": [],
   "metadata": {}
  }
 ],
 "metadata": {
  "orig_nbformat": 4,
  "language_info": {
   "name": "python",
   "version": "3.7.6",
   "mimetype": "text/x-python",
   "codemirror_mode": {
    "name": "ipython",
    "version": 3
   },
   "pygments_lexer": "ipython3",
   "nbconvert_exporter": "python",
   "file_extension": ".py"
  },
  "kernelspec": {
   "name": "python3",
   "display_name": "Python 3.7.6 64-bit ('base': conda)"
  },
  "interpreter": {
   "hash": "07efdcd4b820c98a756949507a4d29d7862823915ec7477944641bea022f4f62"
  }
 },
 "nbformat": 4,
 "nbformat_minor": 2
}