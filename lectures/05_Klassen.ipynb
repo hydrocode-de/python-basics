{
 "cells": [
  {
   "cell_type": "markdown",
   "metadata": {},
   "source": [
    "# Klassen\n",
    "\n",
    "Zusammenfassung:\n",
    "\n",
    "* Klassen sind *Blaupausen* zur Erstellung eigener Objekte\n",
    "* Klassen definieren Attribute und Methoden\n",
    "* Attribute speichern Daten für jedes Objekt einer Klassen\n",
    "* Methoden definieren Funktionalität für ein Objekt\n",
    "* Methoden können vollkommen frei definiert werden, oder *Verhalten* gegenüber anderen Objekten definieren\n",
    "* Klassen können ihre Eigenschaften an *Child-Klassen* vererben\n",
    "* geerbte Eigenschaften können überschrieben werden"
   ]
  },
  {
   "cell_type": "code",
   "execution_count": null,
   "metadata": {},
   "outputs": [],
   "source": [
    "# shortest class definition\n",
    "class A:\n",
    "    pass"
   ]
  },
  {
   "cell_type": "code",
   "execution_count": null,
   "metadata": {},
   "outputs": [],
   "source": [
    "a = A()"
   ]
  },
  {
   "cell_type": "code",
   "execution_count": null,
   "metadata": {},
   "outputs": [],
   "source": [
    "a.__init__"
   ]
  },
  {
   "cell_type": "code",
   "execution_count": null,
   "metadata": {},
   "outputs": [],
   "source": [
    "print(a)"
   ]
  },
  {
   "cell_type": "code",
   "execution_count": null,
   "metadata": {},
   "outputs": [],
   "source": [
    "b = A()\n",
    "a == b"
   ]
  },
  {
   "cell_type": "markdown",
   "metadata": {},
   "source": [
    "## Initialisieren\n",
    "\n",
    "Es kann eine spezifische Methode definiert werden, die ein Objekt der jeweiligen Klasse *'zusammenbaut'*:"
   ]
  },
  {
   "cell_type": "code",
   "execution_count": null,
   "metadata": {},
   "outputs": [],
   "source": [
    "class RemoteServer():\n",
    "    def __init__(self, url):\n",
    "        self.url = url"
   ]
  },
  {
   "cell_type": "markdown",
   "metadata": {},
   "source": [
    "Methoden, die von zwei Unterstrichen umschlossen sind, sind spezielle Methoden, die das Verhalten der Objekte beinflusst.\n",
    "Diese Methoden sind von außerhalb der Klasse nicht aufrufbar. Selbes gilt für alle anderen Methoden, die mit zwei\n",
    "Unterstrichen beginnen.\n",
    "\n",
    "Methoden die mit einem Unterstrich beginnen sind zwar public, allderdings vom Entwickler nicht zur direkten Benutzung vorgesehen, weil sie z.B. ihren Rückgabewert oder ihre Signatur in Zukunft ändern können."
   ]
  },
  {
   "cell_type": "code",
   "execution_count": null,
   "metadata": {},
   "outputs": [],
   "source": [
    "import requests\n",
    "import time\n",
    "\n",
    "class RemoteServer():\n",
    "    def __init__(self, url):\n",
    "        self.url = url\n",
    "\n",
    "    def __invoke(self):\n",
    "        response = requests.get(self.url)\n",
    "\n",
    "        return response\n",
    "\n",
    "    def _ping(self, tries=5):\n",
    "        for i in range(tries):\n",
    "            t1 = time.time()\n",
    "            resp = self.__invoke()\n",
    "            t2 = time.time()\n",
    "\n",
    "            successful = resp.status_code == 200\n",
    "\n",
    "            print(f\"[{i + 1}/{tries}] {'found' if successful else 'not found'} {round((t2 - t1) * 1000)}ms\")\n",
    "\n",
    "            time.sleep(1)\n"
   ]
  },
  {
   "cell_type": "code",
   "execution_count": null,
   "metadata": {},
   "outputs": [],
   "source": [
    "server = RemoteServer('https://hydrocode.de')\n",
    "\n",
    "server._ping()"
   ]
  },
  {
   "cell_type": "markdown",
   "metadata": {},
   "source": [
    "## Magic Methods\n",
    "\n",
    "Die sog. *magic methods* verändern das Verhalten der Objektinstanzen einer Klasse"
   ]
  },
  {
   "cell_type": "code",
   "execution_count": null,
   "metadata": {},
   "outputs": [],
   "source": [
    "class A():\n",
    "    def __init__(self, value):\n",
    "        self.v = value\n",
    "        \n",
    "    def __str__(self):\n",
    "        return f\"Value: {self.v}\"\n",
    "    \n",
    "    def __repr__(self):\n",
    "        return f\"A(value='{self.v}')\""
   ]
  },
  {
   "cell_type": "code",
   "execution_count": null,
   "metadata": {},
   "outputs": [],
   "source": [
    "a = A('foo')\n",
    "a"
   ]
  },
  {
   "cell_type": "code",
   "execution_count": null,
   "metadata": {},
   "outputs": [],
   "source": [
    "str(a)"
   ]
  },
  {
   "cell_type": "code",
   "execution_count": null,
   "metadata": {},
   "outputs": [],
   "source": [
    "print(a)"
   ]
  },
  {
   "cell_type": "code",
   "execution_count": null,
   "metadata": {},
   "outputs": [],
   "source": [
    "class A():\n",
    "    def __init__(self, value):\n",
    "        self.v = value\n",
    "        \n",
    "    def __str__(self):\n",
    "        return f\"Value: {self.v}\"\n",
    "    \n",
    "    def __repr__(self):\n",
    "        return f\"A(value='{self.v}')\"\n",
    "    \n",
    "    def __eq__(self, other):\n",
    "        return self.v == other.v"
   ]
  },
  {
   "cell_type": "code",
   "execution_count": null,
   "metadata": {},
   "outputs": [],
   "source": [
    "b = A(42)\n",
    "c = A(42)\n",
    "\n",
    "print(f\"b==c {b == c}\")\n",
    "print(f\"a==c {a == c}\")"
   ]
  }
 ],
 "metadata": {
  "interpreter": {
   "hash": "07efdcd4b820c98a756949507a4d29d7862823915ec7477944641bea022f4f62"
  },
  "kernelspec": {
   "display_name": "Python 3",
   "language": "python",
   "name": "python3"
  },
  "language_info": {
   "codemirror_mode": {
    "name": "ipython",
    "version": 3
   },
   "file_extension": ".py",
   "mimetype": "text/x-python",
   "name": "python",
   "nbconvert_exporter": "python",
   "pygments_lexer": "ipython3",
   "version": "3.8.5"
  }
 },
 "nbformat": 4,
 "nbformat_minor": 2
}
