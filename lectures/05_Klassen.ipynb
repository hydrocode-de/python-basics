{
 "cells": [
  {
   "cell_type": "markdown",
   "metadata": {},
   "source": [
    "# Klassen\n",
    "\n",
    "Zusammenfassung:\n",
    "\n",
    "* Klassen sind *Blaupausen* zur Erstellung eigener Objekte\n",
    "* Klassen definieren Attribute und Methoden\n",
    "* Attribute speichern Daten für jedes Objekt einer Klassen\n",
    "* Methoden definieren Funktionalität für ein Objekt\n",
    "* Methoden können vollkommen frei definiert werden, oder *Verhalten* gegenüber anderen Objekten definieren\n",
    "* Klassen können ihre Eigenschaften an *Child-Klassen* vererben\n",
    "* geerbte Eigenschaften können überschrieben werden"
   ]
  },
  {
   "cell_type": "code",
   "execution_count": 1,
   "metadata": {},
   "outputs": [],
   "source": [
    "# shortest class definition\n",
    "class A:\n",
    "    pass"
   ]
  },
  {
   "cell_type": "code",
   "execution_count": 2,
   "metadata": {},
   "outputs": [],
   "source": [
    "a = A()"
   ]
  },
  {
   "cell_type": "code",
   "execution_count": 3,
   "metadata": {},
   "outputs": [
    {
     "data": {
      "text/plain": [
       "<__main__.A at 0x7f62782dd460>"
      ]
     },
     "execution_count": 3,
     "metadata": {},
     "output_type": "execute_result"
    }
   ],
   "source": [
    "a"
   ]
  },
  {
   "cell_type": "code",
   "execution_count": 4,
   "metadata": {},
   "outputs": [
    {
     "data": {
      "text/plain": [
       "<method-wrapper '__init__' of A object at 0x7f62782dd460>"
      ]
     },
     "execution_count": 4,
     "metadata": {},
     "output_type": "execute_result"
    }
   ],
   "source": [
    "a.__init__"
   ]
  },
  {
   "cell_type": "code",
   "execution_count": 5,
   "metadata": {},
   "outputs": [
    {
     "name": "stdout",
     "output_type": "stream",
     "text": [
      "<__main__.A object at 0x7f62782dd460>\n"
     ]
    }
   ],
   "source": [
    "print(a)"
   ]
  },
  {
   "cell_type": "code",
   "execution_count": 6,
   "metadata": {},
   "outputs": [
    {
     "data": {
      "text/plain": [
       "False"
      ]
     },
     "execution_count": 6,
     "metadata": {},
     "output_type": "execute_result"
    }
   ],
   "source": [
    "b = A()\n",
    "a == b"
   ]
  },
  {
   "cell_type": "markdown",
   "metadata": {},
   "source": [
    "## Initialisieren\n",
    "\n",
    "Es kann eine spezifische Methode definiert werden, die ein Objekt der jeweiligen Klasse *'zusammenbaut'*:"
   ]
  },
  {
   "cell_type": "code",
   "execution_count": 7,
   "metadata": {},
   "outputs": [],
   "source": [
    "class RemoteServer():\n",
    "    def __init__(self, url):\n",
    "        self.url = url"
   ]
  },
  {
   "cell_type": "code",
   "execution_count": 9,
   "metadata": {},
   "outputs": [
    {
     "data": {
      "text/plain": [
       "'https://google.de'"
      ]
     },
     "execution_count": 9,
     "metadata": {},
     "output_type": "execute_result"
    }
   ],
   "source": [
    "a = RemoteServer('https://google.de')\n",
    "a.url"
   ]
  },
  {
   "cell_type": "code",
   "execution_count": 10,
   "metadata": {},
   "outputs": [
    {
     "data": {
      "text/plain": [
       "42"
      ]
     },
     "execution_count": 10,
     "metadata": {},
     "output_type": "execute_result"
    }
   ],
   "source": [
    "b = RemoteServer(42)\n",
    "b.url"
   ]
  },
  {
   "cell_type": "markdown",
   "metadata": {},
   "source": [
    "Methoden, die von zwei Unterstrichen umschlossen sind, sind spezielle Methoden, die das Verhalten der Objekte beinflusst.\n",
    "Diese Methoden sind von außerhalb der Klasse nicht aufrufbar. Selbes gilt für alle anderen Methoden, die mit zwei\n",
    "Unterstrichen beginnen.\n",
    "\n",
    "Methoden die mit einem Unterstrich beginnen sind zwar public, allderdings vom Entwickler nicht zur direkten Benutzung vorgesehen, weil sie z.B. ihren Rückgabewert oder ihre Signatur in Zukunft ändern können."
   ]
  },
  {
   "cell_type": "code",
   "execution_count": 26,
   "metadata": {},
   "outputs": [],
   "source": [
    "import requests\n",
    "import time\n",
    "\n",
    "class RemoteServer():\n",
    "    def __init__(self, url):\n",
    "        self.url = url\n",
    "\n",
    "    def __invoke(self):\n",
    "        response = requests.get(self.url)\n",
    "\n",
    "        return response\n",
    "\n",
    "    def _ping(self, tries=5):\n",
    "        for i in range(tries):\n",
    "            t1 = time.time()\n",
    "            resp = self.__invoke()\n",
    "            t2 = time.time()\n",
    "\n",
    "            successful = resp.status_code == 200\n",
    "\n",
    "            print(f\"[{i + 1}/{tries}] {'found' if successful else 'not found'} {round((t2 - t1) * 1000)}ms\")\n",
    "\n",
    "            time.sleep(1)\n",
    "            \n",
    "    def report(self):\n",
    "        print('Ich suche den Server...')\n",
    "        self._ping()\n"
   ]
  },
  {
   "cell_type": "code",
   "execution_count": 27,
   "metadata": {},
   "outputs": [
    {
     "name": "stdout",
     "output_type": "stream",
     "text": [
      "Ich suche den Server...\n",
      "[1/5] found 47ms\n",
      "[2/5] found 45ms\n",
      "[3/5] found 50ms\n",
      "[4/5] found 48ms\n",
      "[5/5] found 50ms\n"
     ]
    }
   ],
   "source": [
    "server = RemoteServer('https://hydrocode.de')\n",
    "\n",
    "server.report()"
   ]
  },
  {
   "cell_type": "code",
   "execution_count": 28,
   "metadata": {},
   "outputs": [
    {
     "ename": "AttributeError",
     "evalue": "'RemoteServer' object has no attribute '__invoke'",
     "output_type": "error",
     "traceback": [
      "\u001b[0;31m---------------------------------------------------------------------------\u001b[0m",
      "\u001b[0;31mAttributeError\u001b[0m                            Traceback (most recent call last)",
      "\u001b[0;32m<ipython-input-28-752ea4d5eeee>\u001b[0m in \u001b[0;36m<module>\u001b[0;34m\u001b[0m\n\u001b[0;32m----> 1\u001b[0;31m \u001b[0mserver\u001b[0m\u001b[0;34m.\u001b[0m\u001b[0m__invoke\u001b[0m\u001b[0;34m(\u001b[0m\u001b[0;34m)\u001b[0m\u001b[0;34m\u001b[0m\u001b[0;34m\u001b[0m\u001b[0m\n\u001b[0m",
      "\u001b[0;31mAttributeError\u001b[0m: 'RemoteServer' object has no attribute '__invoke'"
     ]
    }
   ],
   "source": [
    "server.__invoke()"
   ]
  },
  {
   "cell_type": "markdown",
   "metadata": {},
   "source": [
    "## Magic Methods\n",
    "\n",
    "Die sog. *magic methods* verändern das Verhalten der Objektinstanzen einer Klasse"
   ]
  },
  {
   "cell_type": "code",
   "execution_count": 11,
   "metadata": {},
   "outputs": [],
   "source": [
    "class A():\n",
    "    def __init__(self, value):\n",
    "        self.v = value\n",
    "        \n",
    "    def __str__(self):\n",
    "        return f\"Value: {self.v}\"\n",
    "    \n",
    "    def __repr__(self):\n",
    "        return f\"A(value='{self.v}')\""
   ]
  },
  {
   "cell_type": "code",
   "execution_count": 12,
   "metadata": {},
   "outputs": [
    {
     "data": {
      "text/plain": [
       "A(value='foo')"
      ]
     },
     "execution_count": 12,
     "metadata": {},
     "output_type": "execute_result"
    }
   ],
   "source": [
    "a = A('foo')\n",
    "a"
   ]
  },
  {
   "cell_type": "code",
   "execution_count": 16,
   "metadata": {},
   "outputs": [
    {
     "name": "stdout",
     "output_type": "stream",
     "text": [
      "Value: foo\n"
     ]
    }
   ],
   "source": [
    "b = A(value='foo')\n",
    "print(b)"
   ]
  },
  {
   "cell_type": "code",
   "execution_count": 17,
   "metadata": {},
   "outputs": [
    {
     "data": {
      "text/plain": [
       "False"
      ]
     },
     "execution_count": 17,
     "metadata": {},
     "output_type": "execute_result"
    }
   ],
   "source": [
    "a == b"
   ]
  },
  {
   "cell_type": "code",
   "execution_count": 13,
   "metadata": {},
   "outputs": [
    {
     "data": {
      "text/plain": [
       "'Value: foo'"
      ]
     },
     "execution_count": 13,
     "metadata": {},
     "output_type": "execute_result"
    }
   ],
   "source": [
    "str(a)"
   ]
  },
  {
   "cell_type": "code",
   "execution_count": 14,
   "metadata": {},
   "outputs": [
    {
     "name": "stdout",
     "output_type": "stream",
     "text": [
      "Value: foo\n"
     ]
    }
   ],
   "source": [
    "print(a)"
   ]
  },
  {
   "cell_type": "code",
   "execution_count": 20,
   "metadata": {},
   "outputs": [],
   "source": [
    "class A():\n",
    "    def __init__(self, value):\n",
    "        self.v = value\n",
    "        \n",
    "    def __str__(self):\n",
    "        return f\"Value: {self.v}\"\n",
    "    \n",
    "    def __repr__(self):\n",
    "        return f\"A(value='{self.v}')\"\n",
    "    \n",
    "    def __eq__(self, other):\n",
    "        return self.v == other.v"
   ]
  },
  {
   "cell_type": "code",
   "execution_count": 23,
   "metadata": {},
   "outputs": [
    {
     "name": "stdout",
     "output_type": "stream",
     "text": [
      "b==c True\n",
      "a==c False\n"
     ]
    }
   ],
   "source": [
    "b = A(42)\n",
    "c = A(42)\n",
    "\n",
    "print(f\"b==c {b == c}\")\n",
    "print(f\"a==c {a == c}\")"
   ]
  },
  {
   "cell_type": "code",
   "execution_count": 32,
   "metadata": {},
   "outputs": [
    {
     "data": {
      "text/plain": [
       "scpustats(ctx_switches=24436701, interrupts=11699289, soft_interrupts=4923705, syscalls=0)"
      ]
     },
     "execution_count": 32,
     "metadata": {},
     "output_type": "execute_result"
    }
   ],
   "source": [
    "import psutil\n",
    "\n",
    "psutil.cpu_stats()"
   ]
  },
  {
   "cell_type": "code",
   "execution_count": 39,
   "metadata": {},
   "outputs": [
    {
     "data": {
      "text/plain": [
       "1.3"
      ]
     },
     "execution_count": 39,
     "metadata": {},
     "output_type": "execute_result"
    }
   ],
   "source": [
    "psutil.cpu_percent()"
   ]
  },
  {
   "cell_type": "markdown",
   "metadata": {},
   "source": [
    "## Klassenmethoden vs Instanzmethoden"
   ]
  },
  {
   "cell_type": "code",
   "execution_count": 79,
   "metadata": {},
   "outputs": [],
   "source": [
    "class Car:\n",
    "    \n",
    "    count = 0\n",
    "    \n",
    "    def __init__(self, speed=0):\n",
    "        self.__speed = speed\n",
    "        Car.count = Car.count + 1\n",
    "    \n",
    "    @property\n",
    "    def speed(self):\n",
    "        return self.__speed\n",
    "    \n",
    "    def accelerate(self, value):\n",
    "        if value > 0 and value < 10:\n",
    "            self.__speed += value\n",
    "            \n",
    "    @classmethod\n",
    "    def reset_counter(cls):\n",
    "        cls.count = 0\n",
    "\n",
    "    \n",
    "    def __repr__(self):\n",
    "        return f\"Ich fahre {self.speed} schnell\""
   ]
  },
  {
   "cell_type": "code",
   "execution_count": 80,
   "metadata": {},
   "outputs": [
    {
     "data": {
      "text/plain": [
       "Ich fahre 50 schnell"
      ]
     },
     "execution_count": 80,
     "metadata": {},
     "output_type": "execute_result"
    }
   ],
   "source": [
    "vw = Car(50)\n",
    "vw"
   ]
  },
  {
   "cell_type": "code",
   "execution_count": 81,
   "metadata": {},
   "outputs": [
    {
     "data": {
      "text/plain": [
       "50"
      ]
     },
     "execution_count": 81,
     "metadata": {},
     "output_type": "execute_result"
    }
   ],
   "source": [
    "vw.speed"
   ]
  },
  {
   "cell_type": "code",
   "execution_count": 82,
   "metadata": {},
   "outputs": [
    {
     "data": {
      "text/plain": [
       "55"
      ]
     },
     "execution_count": 82,
     "metadata": {},
     "output_type": "execute_result"
    }
   ],
   "source": [
    "vw.accelerate(5)\n",
    "vw.speed"
   ]
  }
 ],
 "metadata": {
  "interpreter": {
   "hash": "07efdcd4b820c98a756949507a4d29d7862823915ec7477944641bea022f4f62"
  },
  "kernelspec": {
   "display_name": "Python 3",
   "language": "python",
   "name": "python3"
  },
  "language_info": {
   "codemirror_mode": {
    "name": "ipython",
    "version": 3
   },
   "file_extension": ".py",
   "mimetype": "text/x-python",
   "name": "python",
   "nbconvert_exporter": "python",
   "pygments_lexer": "ipython3",
   "version": "3.8.5"
  }
 },
 "nbformat": 4,
 "nbformat_minor": 2
}
