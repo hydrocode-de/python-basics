{
 "cells": [
  {
   "cell_type": "markdown",
   "id": "010bfb66",
   "metadata": {},
   "source": [
    "# 2. Kontrollstrukturen\n",
    "\n",
    "Kontrollstrukturen sind Anweisungen und Anweisungs-Blöcke um die Ausführung des eines Progammes zu steuern. Hier werden drei Strukturen beleuchtet:\n",
    "\n",
    "1. `if ... else` zum konditionellem ausfüren von Code\n",
    "2. `for` und `while` zur wiederholten Ausführung von Code\n",
    "3. `try ... except` zur Behandlung von Programmfehlern"
   ]
  },
  {
   "cell_type": "markdown",
   "id": "982a7f13",
   "metadata": {},
   "source": [
    "## `if` Anweisung\n",
    "\n",
    "`if` testet eine *condition*, oder Bedingung, und führt den anhängenden Code-Block nur aus wenn diese Bedingung whar ist. Dabei muss die Bedingung zu einem `bool` auflösbar sein, oder implizit in einen `bool` umgewandelt werden können."
   ]
  },
  {
   "cell_type": "code",
   "execution_count": 1,
   "id": "b2779629",
   "metadata": {},
   "outputs": [
    {
     "name": "stdout",
     "output_type": "stream",
     "text": [
      "Das hier ist lesbar\n"
     ]
    }
   ],
   "source": [
    "if True:\n",
    "    print('Das hier ist lesbar')\n",
    "if False:\n",
    "    print('Das hier nicht')"
   ]
  },
  {
   "cell_type": "code",
   "execution_count": 2,
   "id": "242dafd9",
   "metadata": {},
   "outputs": [
    {
     "name": "stdout",
     "output_type": "stream",
     "text": [
      "1 wird als True interpretiert\n",
      "Jeder string ist ebenfalls True\n"
     ]
    }
   ],
   "source": [
    "if 1:\n",
    "    print('1 wird als True interpretiert')\n",
    "if 0:\n",
    "    print('0 nicht')\n",
    "if None:\n",
    "    print('None auch nicht')\n",
    "if 'ein langer text':\n",
    "    print('Jeder string ist ebenfalls True')"
   ]
  },
  {
   "cell_type": "code",
   "execution_count": 7,
   "id": "075d9a93",
   "metadata": {},
   "outputs": [
    {
     "name": "stdout",
     "output_type": "stream",
     "text": [
      "Warum werde ich gedruckt?\n"
     ]
    }
   ],
   "source": [
    "if 'False':\n",
    "    print('Warum werde ich gedruckt?')"
   ]
  },
  {
   "cell_type": "markdown",
   "id": "1f0af2da",
   "metadata": {},
   "source": [
    "Mit `else` kann ein Alternativer Code-Block definiert werden:"
   ]
  },
  {
   "cell_type": "code",
   "execution_count": 8,
   "id": "68f00137",
   "metadata": {},
   "outputs": [
    {
     "name": "stdout",
     "output_type": "stream",
     "text": [
      "Bedingung war wahr\n"
     ]
    }
   ],
   "source": [
    "if True:\n",
    "    print('Bedingung war wahr')\n",
    "else:\n",
    "    print('Bedingung war falsch')"
   ]
  },
  {
   "cell_type": "code",
   "execution_count": 9,
   "id": "1ccde390",
   "metadata": {},
   "outputs": [
    {
     "name": "stdout",
     "output_type": "stream",
     "text": [
      "Bedingung war falsch\n"
     ]
    }
   ],
   "source": [
    "if False:\n",
    "    print('Bedingung war wahr')\n",
    "else:\n",
    "    print('Bedingung war falsch')"
   ]
  },
  {
   "cell_type": "markdown",
   "id": "613a2acc",
   "metadata": {},
   "source": [
    "Dabei können `if` Blöcke verschachtelt werden:"
   ]
  },
  {
   "cell_type": "code",
   "execution_count": 10,
   "id": "57a08fbc",
   "metadata": {},
   "outputs": [
    {
     "name": "stdout",
     "output_type": "stream",
     "text": [
      "Beides war False\n"
     ]
    }
   ],
   "source": [
    "if False:\n",
    "    pass\n",
    "else:\n",
    "    if 0:\n",
    "        pass\n",
    "    else:\n",
    "        print('Beides war False')"
   ]
  },
  {
   "cell_type": "markdown",
   "id": "7ee59278",
   "metadata": {},
   "source": [
    "Für `else if` Verschatelungen gibt es den `elif` Befehl. Damit lässt sich der Code übersichtlicher schreiben. Nehme diese Beispiel:"
   ]
  },
  {
   "cell_type": "code",
   "execution_count": 11,
   "id": "96bedffa",
   "metadata": {},
   "outputs": [
    {
     "name": "stdout",
     "output_type": "stream",
     "text": [
      "Alles war False\n"
     ]
    }
   ],
   "source": [
    "if False:\n",
    "    pass\n",
    "else:\n",
    "    if 0:\n",
    "        pass\n",
    "    else:\n",
    "        if None:\n",
    "            pass\n",
    "        else:\n",
    "            print('Alles war False')"
   ]
  },
  {
   "cell_type": "code",
   "execution_count": 15,
   "id": "c9f5af40",
   "metadata": {},
   "outputs": [
    {
     "name": "stdout",
     "output_type": "stream",
     "text": [
      "Erster Block\n"
     ]
    }
   ],
   "source": [
    "if True:\n",
    "    print('Erster Block')\n",
    "elif True:\n",
    "    print('Zweiter Block')\n",
    "elif None:\n",
    "    pass\n",
    "else:\n",
    "    print('Alles war False')"
   ]
  },
  {
   "cell_type": "markdown",
   "id": "aee7b5fd",
   "metadata": {},
   "source": [
    "Es gibt verschiedene Operatoren, um Bedingungen dynamisch auszuwerten: `<`, `>`, `==`, `!=`, `>=`, `<=`. Dabei werden üblicherweise Variablen verwendet, die im Verlauf des Programmes verschiedene Werte annehmen kann."
   ]
  },
  {
   "cell_type": "code",
   "execution_count": 16,
   "id": "f756c1a8",
   "metadata": {},
   "outputs": [
    {
     "data": {
      "text/plain": [
       "True"
      ]
     },
     "execution_count": 16,
     "metadata": {},
     "output_type": "execute_result"
    }
   ],
   "source": [
    "alter = 15\n",
    "alter == 15"
   ]
  },
  {
   "cell_type": "code",
   "execution_count": 19,
   "id": "c4de8c86",
   "metadata": {},
   "outputs": [
    {
     "name": "stdout",
     "output_type": "stream",
     "text": [
      "Du bist ein Baby\n"
     ]
    }
   ],
   "source": [
    "alter = -22\n",
    "\n",
    "if alter < 1:\n",
    "    print('Du bist ein Baby')\n",
    "elif alter <= 3:\n",
    "    print('Du bist in der KiTa')\n",
    "elif alter > 7:\n",
    "    print('Du bist älter als 7')\n",
    "else:\n",
    "    print('Du bist zwischen 3 und 7')"
   ]
  },
  {
   "cell_type": "code",
   "execution_count": 30,
   "id": "122bfbcb",
   "metadata": {},
   "outputs": [
    {
     "name": "stdout",
     "output_type": "stream",
     "text": [
      "Es ist nicht dein 18. Geburtstag\n"
     ]
    }
   ],
   "source": [
    "alter = 17\n",
    "\n",
    "if not alter == 18:\n",
    "    print('Es ist nicht dein 18. Geburtstag')\n",
    "else:\n",
    "    print('Yeah, endlich 18!')"
   ]
  },
  {
   "cell_type": "markdown",
   "id": "ade9b0ce",
   "metadata": {},
   "source": [
    "Mehrere Bedingungen  können mit `and` und `or` verknüpft werden. Über `not` kann der `bool` einer ausgewerteten Bedingung umgekehrt werden."
   ]
  },
  {
   "cell_type": "code",
   "execution_count": 28,
   "id": "913230c5",
   "metadata": {},
   "outputs": [
    {
     "name": "stdout",
     "output_type": "stream",
     "text": [
      "Request failed and it is your fault.\n"
     ]
    }
   ],
   "source": [
    "server_response = 500\n",
    "\n",
    "if server_response == 200:\n",
    "    print('Request valid.')\n",
    "elif server_response > 400 and server_response < 500:\n",
    "    print('Request failed and it is your fault.')\n",
    "elif server_response >= 500:\n",
    "    print(f'Request [{server_response}] errored, but it is our fault.')\n",
    "else:\n",
    "    print('Request invalid')"
   ]
  },
  {
   "cell_type": "code",
   "execution_count": 34,
   "id": "40dbffd3",
   "metadata": {},
   "outputs": [
    {
     "data": {
      "text/plain": [
       "False"
      ]
     },
     "execution_count": 34,
     "metadata": {},
     "output_type": "execute_result"
    }
   ],
   "source": [
    "a = 5\n",
    "b = 7\n",
    "\n",
    "(a < 10 and b >= 10)  or (b < 10 and a >= 10)"
   ]
  },
  {
   "cell_type": "code",
   "execution_count": 33,
   "id": "90c070d5",
   "metadata": {},
   "outputs": [
    {
     "name": "stdout",
     "output_type": "stream",
     "text": [
      "False\n",
      "True\n"
     ]
    }
   ],
   "source": [
    "print(a < 5)\n",
    "print(a <= 5)"
   ]
  },
  {
   "cell_type": "code",
   "execution_count": 53,
   "id": "ab98e6bc",
   "metadata": {},
   "outputs": [
    {
     "data": {
      "text/plain": [
       "True"
      ]
     },
     "execution_count": 53,
     "metadata": {},
     "output_type": "execute_result"
    }
   ],
   "source": [
    "status = 'PENDING'\n",
    "#status = 'pending'\n",
    "#status = 'Pending'\n",
    "\n",
    "status == 'pending' or status == 'Pending' or status == 'PENDING'"
   ]
  },
  {
   "cell_type": "code",
   "execution_count": 39,
   "id": "b8ee7be6",
   "metadata": {},
   "outputs": [
    {
     "data": {
      "text/plain": [
       "True"
      ]
     },
     "execution_count": 39,
     "metadata": {},
     "output_type": "execute_result"
    }
   ],
   "source": [
    "status.lower() == 'pending'"
   ]
  },
  {
   "cell_type": "code",
   "execution_count": 42,
   "id": "df61a37d",
   "metadata": {},
   "outputs": [
    {
     "ename": "AttributeError",
     "evalue": "'int' object has no attribute 'lower'",
     "output_type": "error",
     "traceback": [
      "\u001b[0;31m---------------------------------------------------------------------------\u001b[0m",
      "\u001b[0;31mAttributeError\u001b[0m                            Traceback (most recent call last)",
      "\u001b[0;32m<ipython-input-42-ec21cc94fab6>\u001b[0m in \u001b[0;36m<module>\u001b[0;34m\u001b[0m\n\u001b[1;32m      1\u001b[0m \u001b[0mstatus\u001b[0m \u001b[0;34m=\u001b[0m \u001b[0;36m200\u001b[0m\u001b[0;34m\u001b[0m\u001b[0;34m\u001b[0m\u001b[0m\n\u001b[0;32m----> 2\u001b[0;31m \u001b[0mstatus\u001b[0m\u001b[0;34m.\u001b[0m\u001b[0mlower\u001b[0m\u001b[0;34m(\u001b[0m\u001b[0;34m)\u001b[0m \u001b[0;34m==\u001b[0m \u001b[0;34m'pending'\u001b[0m\u001b[0;34m\u001b[0m\u001b[0;34m\u001b[0m\u001b[0m\n\u001b[0m",
      "\u001b[0;31mAttributeError\u001b[0m: 'int' object has no attribute 'lower'"
     ]
    }
   ],
   "source": [
    "status = 200\n",
    "status.lower() == 'pending'"
   ]
  },
  {
   "cell_type": "code",
   "execution_count": 54,
   "id": "a6ab4e7f",
   "metadata": {
    "scrolled": false
   },
   "outputs": [
    {
     "ename": "AttributeError",
     "evalue": "'int' object has no attribute 'lower'",
     "output_type": "error",
     "traceback": [
      "\u001b[0;31m---------------------------------------------------------------------------\u001b[0m",
      "\u001b[0;31mAttributeError\u001b[0m                            Traceback (most recent call last)",
      "\u001b[0;32m<ipython-input-54-16ac83079594>\u001b[0m in \u001b[0;36m<module>\u001b[0;34m\u001b[0m\n\u001b[1;32m      1\u001b[0m \u001b[0mstatus\u001b[0m \u001b[0;34m=\u001b[0m \u001b[0;36m200\u001b[0m\u001b[0;34m\u001b[0m\u001b[0;34m\u001b[0m\u001b[0m\n\u001b[1;32m      2\u001b[0m \u001b[0;34m\u001b[0m\u001b[0m\n\u001b[0;32m----> 3\u001b[0;31m \u001b[0;32mif\u001b[0m  \u001b[0mstatus\u001b[0m\u001b[0;34m.\u001b[0m\u001b[0mlower\u001b[0m\u001b[0;34m(\u001b[0m\u001b[0;34m)\u001b[0m \u001b[0;34m==\u001b[0m \u001b[0;34m'pending'\u001b[0m \u001b[0;32mand\u001b[0m \u001b[0misinstance\u001b[0m\u001b[0;34m(\u001b[0m\u001b[0mstatus\u001b[0m\u001b[0;34m,\u001b[0m \u001b[0mstr\u001b[0m\u001b[0;34m)\u001b[0m\u001b[0;34m:\u001b[0m\u001b[0;34m\u001b[0m\u001b[0;34m\u001b[0m\u001b[0m\n\u001b[0m\u001b[1;32m      4\u001b[0m     \u001b[0mprint\u001b[0m\u001b[0;34m(\u001b[0m\u001b[0;34m'App is pending'\u001b[0m\u001b[0;34m)\u001b[0m\u001b[0;34m\u001b[0m\u001b[0;34m\u001b[0m\u001b[0m\n\u001b[1;32m      5\u001b[0m \u001b[0;32melse\u001b[0m\u001b[0;34m:\u001b[0m\u001b[0;34m\u001b[0m\u001b[0;34m\u001b[0m\u001b[0m\n",
      "\u001b[0;31mAttributeError\u001b[0m: 'int' object has no attribute 'lower'"
     ]
    }
   ],
   "source": [
    "status = 200\n",
    "\n",
    "if  status.lower() == 'pending' and isinstance(status, str): \n",
    "    print('App is pending')\n",
    "else:\n",
    "    print('I dont know')"
   ]
  },
  {
   "cell_type": "code",
   "execution_count": 55,
   "id": "fa754231",
   "metadata": {},
   "outputs": [
    {
     "name": "stdout",
     "output_type": "stream",
     "text": [
      "I dont know\n"
     ]
    }
   ],
   "source": [
    "status = 200\n",
    "\n",
    "if isinstance(status, str) and status.lower() == 'pending': \n",
    "    print('App is pending')\n",
    "else:\n",
    "    print('I dont know')"
   ]
  },
  {
   "cell_type": "markdown",
   "id": "e28c9075",
   "metadata": {},
   "source": [
    "## Schleifen\n",
    "\n",
    "Mit Schleifen lassen sich Code-Blöcke wiederholen. Dabei stehen zwei Schleifenarten zur Verfügung:\n",
    "\n",
    "1. `for` Schleife, für eine definierte Anzahl an Schleifen.\n",
    "2. `while` Schleife, deren Ausführung über eine Bedingung gesteuert wird"
   ]
  },
  {
   "cell_type": "code",
   "execution_count": 60,
   "id": "df143b2c",
   "metadata": {},
   "outputs": [
    {
     "name": "stdout",
     "output_type": "stream",
     "text": [
      "0\n",
      "1\n",
      "2\n"
     ]
    }
   ],
   "source": [
    "for i in range(3):\n",
    "    print(i)"
   ]
  },
  {
   "cell_type": "code",
   "execution_count": 62,
   "id": "798260b6",
   "metadata": {},
   "outputs": [
    {
     "name": "stdout",
     "output_type": "stream",
     "text": [
      "0\n",
      "1\n",
      "2\n"
     ]
    }
   ],
   "source": [
    "runs = 0\n",
    "while runs < 3:\n",
    "    print(runs)\n",
    "    runs = runs + 1"
   ]
  },
  {
   "cell_type": "code",
   "execution_count": 68,
   "id": "ef463b81",
   "metadata": {},
   "outputs": [
    {
     "name": "stdout",
     "output_type": "stream",
     "text": [
      "#0: Found Windows host\n",
      "#4: Found Windows host\n"
     ]
    }
   ],
   "source": [
    "hosts = ['Windows', 'Mac', 'Linux', 'Linux', 'Windows']\n",
    "i = 0\n",
    "\n",
    "for host in hosts:\n",
    "    if host == 'Windows':\n",
    "        print(f'#{i}: Found Windows host')\n",
    "    i = i + 1 "
   ]
  },
  {
   "cell_type": "code",
   "execution_count": 69,
   "id": "0cc9f15c",
   "metadata": {},
   "outputs": [
    {
     "name": "stdout",
     "output_type": "stream",
     "text": [
      "Host Nr. 2 ist ein Linux host\n",
      "Host Nr. 3 ist ein Linux host\n"
     ]
    }
   ],
   "source": [
    "for i, host in enumerate(hosts):\n",
    "    if host == 'Linux':\n",
    "        print(f\"Host Nr. {i} ist ein Linux host\")"
   ]
  },
  {
   "cell_type": "markdown",
   "id": "421a261a",
   "metadata": {},
   "source": [
    "Schleifen können zusätzlich über `continue` und `break` gesteuert werden. \n",
    "\n",
    "* `continue` springt direkt in die nächste Schleifenausführung, ohne den restlichen Block auszuführen\n",
    "* `break` bricht die komplette Schleife ab"
   ]
  },
  {
   "cell_type": "code",
   "execution_count": 72,
   "id": "5b1200c9",
   "metadata": {},
   "outputs": [
    {
     "name": "stdout",
     "output_type": "stream",
     "text": [
      "No Android allowed in system!!! Exiting\n"
     ]
    }
   ],
   "source": [
    "hosts = ['Windows', 'Mac', 'Linux', 'Linux', 'Windows']\n",
    "hosts.extend(['Linux', 'Windows', 'Android', 'Windows', 'Linux'])\n",
    "\n",
    "found_hosts = 0\n",
    "find_os = 'Mac'\n",
    "\n",
    "for i, host in enumerate(hosts):\n",
    "    if host == 'Android':\n",
    "        print('No Android allowed in system!!! Exiting')\n",
    "        break\n",
    "    if host != find_os:\n",
    "        continue\n",
    "    found_hosts += 1\n",
    "    \n",
    "    if found_hosts == 3:\n",
    "        print(f'Found 3 hosts after {i} tries')\n",
    "        break"
   ]
  },
  {
   "cell_type": "markdown",
   "id": "87f4f28b",
   "metadata": {},
   "source": [
    "## Fehlerbehandlung\n",
    "\n",
    "Prgrammfehler können leicht auftregen. Dabei gibt es mehrere Arten von Fehlermeldungen:\n",
    "\n",
    "* Syntax-Fehler\n",
    "* Laufzeit-Fehler\n",
    "* Logik-Fehler\n",
    "\n",
    "Syntax-Fehler treten auf, wenn der Interpreter den Code nicht versteht und können üblicherweise leicht mit dem *Traceback* und der Fehlernachricht gelöst werden. Bei Syntax-Fehlern, wird der Python Code nie vollständig ausgeführt.\n",
    "\n",
    "Laufzeitfehler treten auf, wenn ein Python Programm eine nicht ausführbare, aber syntaktisch korrekte Anweisung bekommt. Diese Fehler sind technisch nicht falsch, deuten aber auf eine fehlerhafte Programmierung hin. Umgangsprachlich werden sie auch *bugs* genannt. Da Python interpretiert ist, können auch Syntaxfehler zur Laufzeit auftreten, sind aber dennoch keine Laufzeitfehler.\n",
    "Solche Fehler beenden ein Python Programm und geben die Fehlermeldung auf stdout aus. Üblicherweise sollte solche Fehler durch das Programm selber behandelt und z.B. ein log-file geschrieben werden.\n",
    "\n",
    "Logikfehler sind keine Fehler im engeren Sinne. Das Programm läuft korrekt ab, allerdings ist das Ergebnis unerwartet oder sinnlos. Logikfehler können auf einen fehlerhaften Aufbau eines Programmes hindeuten. Diese Fehler sind meist schwer zu entdecken und zu behandeln."
   ]
  },
  {
   "cell_type": "code",
   "execution_count": 75,
   "id": "7f4be61d",
   "metadata": {},
   "outputs": [
    {
     "ename": "SyntaxError",
     "evalue": "Missing parentheses in call to 'print'. Did you mean print(\"Ich bin ein Syntaxfehler\")? (<ipython-input-75-e4107be926ba>, line 1)",
     "output_type": "error",
     "traceback": [
      "\u001b[0;36m  File \u001b[0;32m\"<ipython-input-75-e4107be926ba>\"\u001b[0;36m, line \u001b[0;32m1\u001b[0m\n\u001b[0;31m    print \"Ich bin ein Syntaxfehler\"\u001b[0m\n\u001b[0m          ^\u001b[0m\n\u001b[0;31mSyntaxError\u001b[0m\u001b[0;31m:\u001b[0m Missing parentheses in call to 'print'. Did you mean print(\"Ich bin ein Syntaxfehler\")?\n"
     ]
    }
   ],
   "source": [
    "print \"Ich bin ein Syntaxfehler\""
   ]
  },
  {
   "cell_type": "code",
   "execution_count": 79,
   "id": "94e201ac",
   "metadata": {},
   "outputs": [
    {
     "ename": "IndexError",
     "evalue": "list index out of range",
     "output_type": "error",
     "traceback": [
      "\u001b[0;31m---------------------------------------------------------------------------\u001b[0m",
      "\u001b[0;31mIndexError\u001b[0m                                Traceback (most recent call last)",
      "\u001b[0;32m<ipython-input-79-d27a144fde92>\u001b[0m in \u001b[0;36m<module>\u001b[0;34m\u001b[0m\n\u001b[0;32m----> 1\u001b[0;31m \u001b[0mprint\u001b[0m\u001b[0;34m(\u001b[0m\u001b[0mhosts\u001b[0m\u001b[0;34m[\u001b[0m\u001b[0;36m13\u001b[0m\u001b[0;34m]\u001b[0m\u001b[0;34m)\u001b[0m\u001b[0;34m\u001b[0m\u001b[0;34m\u001b[0m\u001b[0m\n\u001b[0m\u001b[1;32m      2\u001b[0m \u001b[0mprint\u001b[0m\u001b[0;34m(\u001b[0m\u001b[0;34m'Ich werde ausgeführt'\u001b[0m\u001b[0;34m)\u001b[0m\u001b[0;34m\u001b[0m\u001b[0;34m\u001b[0m\u001b[0m\n",
      "\u001b[0;31mIndexError\u001b[0m: list index out of range"
     ]
    }
   ],
   "source": [
    "print(hosts[13])\n",
    "print('Ich werde ausgeführt')"
   ]
  },
  {
   "cell_type": "code",
   "execution_count": 78,
   "id": "49a1e17c",
   "metadata": {},
   "outputs": [
    {
     "name": "stdout",
     "output_type": "stream",
     "text": [
      "hosts too short\n",
      "Ich werde ausgeführt\n"
     ]
    }
   ],
   "source": [
    "if len(hosts) >= 14:\n",
    "    print(hosts[13])\n",
    "else:\n",
    "    print('hosts too short')\n",
    "print('Ich werde ausgeführt')"
   ]
  },
  {
   "cell_type": "code",
   "execution_count": 80,
   "id": "30ecca94",
   "metadata": {},
   "outputs": [
    {
     "ename": "ValueError",
     "evalue": "invalid literal for int() with base 10: 'Dreizehn'",
     "output_type": "error",
     "traceback": [
      "\u001b[0;31m---------------------------------------------------------------------------\u001b[0m",
      "\u001b[0;31mValueError\u001b[0m                                Traceback (most recent call last)",
      "\u001b[0;32m<ipython-input-80-df6bcfae3d69>\u001b[0m in \u001b[0;36m<module>\u001b[0;34m\u001b[0m\n\u001b[0;32m----> 1\u001b[0;31m \u001b[0mint\u001b[0m\u001b[0;34m(\u001b[0m\u001b[0;34m'Dreizehn'\u001b[0m\u001b[0;34m)\u001b[0m\u001b[0;34m\u001b[0m\u001b[0;34m\u001b[0m\u001b[0m\n\u001b[0m",
      "\u001b[0;31mValueError\u001b[0m: invalid literal for int() with base 10: 'Dreizehn'"
     ]
    }
   ],
   "source": [
    "int('Dreizehn')"
   ]
  },
  {
   "cell_type": "code",
   "execution_count": 81,
   "id": "6c9675b1",
   "metadata": {},
   "outputs": [
    {
     "ename": "TypeError",
     "evalue": "unsupported operand type(s) for /: 'int' and 'str'",
     "output_type": "error",
     "traceback": [
      "\u001b[0;31m---------------------------------------------------------------------------\u001b[0m",
      "\u001b[0;31mTypeError\u001b[0m                                 Traceback (most recent call last)",
      "\u001b[0;32m<ipython-input-81-01784fca39e3>\u001b[0m in \u001b[0;36m<module>\u001b[0;34m\u001b[0m\n\u001b[0;32m----> 1\u001b[0;31m \u001b[0;36m13\u001b[0m \u001b[0;34m/\u001b[0m \u001b[0;34m'vier'\u001b[0m\u001b[0;34m\u001b[0m\u001b[0;34m\u001b[0m\u001b[0m\n\u001b[0m",
      "\u001b[0;31mTypeError\u001b[0m: unsupported operand type(s) for /: 'int' and 'str'"
     ]
    }
   ],
   "source": [
    "13 / 'vier'"
   ]
  },
  {
   "cell_type": "code",
   "execution_count": 84,
   "id": "001a2e54",
   "metadata": {},
   "outputs": [
    {
     "ename": "ZeroDivisionError",
     "evalue": "division by zero",
     "output_type": "error",
     "traceback": [
      "\u001b[0;31m---------------------------------------------------------------------------\u001b[0m",
      "\u001b[0;31mZeroDivisionError\u001b[0m                         Traceback (most recent call last)",
      "\u001b[0;32m<ipython-input-84-97b861ea84c3>\u001b[0m in \u001b[0;36m<module>\u001b[0;34m\u001b[0m\n\u001b[0;32m----> 1\u001b[0;31m \u001b[0;36m13\u001b[0m \u001b[0;34m/\u001b[0m \u001b[0;36m0\u001b[0m\u001b[0;34m\u001b[0m\u001b[0;34m\u001b[0m\u001b[0m\n\u001b[0m",
      "\u001b[0;31mZeroDivisionError\u001b[0m: division by zero"
     ]
    }
   ],
   "source": [
    "13 / 0"
   ]
  },
  {
   "cell_type": "code",
   "execution_count": 83,
   "id": "40ec8378",
   "metadata": {},
   "outputs": [
    {
     "name": "stdout",
     "output_type": "stream",
     "text": [
      "a ist 0\n"
     ]
    }
   ],
   "source": [
    "a = 0\n",
    "\n",
    "if a == 0:\n",
    "    print('a ist 0')\n",
    "else:\n",
    "    print(13 / a)"
   ]
  },
  {
   "cell_type": "markdown",
   "id": "65177c94",
   "metadata": {},
   "source": [
    "Alle Fehler oben können durch einen guten Programmierstil verhindert werden. Üblicherweise treten sie nur während der Entwicklung. Nicht jedoch das folgende Beispiel:"
   ]
  },
  {
   "cell_type": "code",
   "execution_count": 88,
   "id": "db58b1f4",
   "metadata": {},
   "outputs": [
    {
     "name": "stdout",
     "output_type": "stream",
     "text": [
      "Bitte nicht 5 eingeben: Mirko\n"
     ]
    },
    {
     "ename": "ValueError",
     "evalue": "invalid literal for int() with base 10: 'Mirko'",
     "output_type": "error",
     "traceback": [
      "\u001b[0;31m---------------------------------------------------------------------------\u001b[0m",
      "\u001b[0;31mValueError\u001b[0m                                Traceback (most recent call last)",
      "\u001b[0;32m<ipython-input-88-fd734b2e5ef3>\u001b[0m in \u001b[0;36m<module>\u001b[0;34m\u001b[0m\n\u001b[0;32m----> 1\u001b[0;31m \u001b[0muser_input\u001b[0m \u001b[0;34m=\u001b[0m \u001b[0mint\u001b[0m\u001b[0;34m(\u001b[0m\u001b[0minput\u001b[0m\u001b[0;34m(\u001b[0m\u001b[0;34m'Bitte nicht 5 eingeben: '\u001b[0m\u001b[0;34m)\u001b[0m\u001b[0;34m)\u001b[0m\u001b[0;34m\u001b[0m\u001b[0;34m\u001b[0m\u001b[0m\n\u001b[0m\u001b[1;32m      2\u001b[0m \u001b[0mprint\u001b[0m\u001b[0;34m(\u001b[0m\u001b[0;34mf\"13 / (5 - {user_input}) = {13 / (5 - user_input)}\"\u001b[0m\u001b[0;34m)\u001b[0m\u001b[0;34m\u001b[0m\u001b[0;34m\u001b[0m\u001b[0m\n",
      "\u001b[0;31mValueError\u001b[0m: invalid literal for int() with base 10: 'Mirko'"
     ]
    }
   ],
   "source": [
    "user_input = int(input('Bitte nicht 5 eingeben: '))\n",
    "print(f\"13 / (5 - {user_input}) = {13 / (5 - user_input)}\")"
   ]
  },
  {
   "cell_type": "markdown",
   "id": "9dbde282",
   "metadata": {},
   "source": [
    "Mit `try` kann man Python mitteilen, dass man im folgenden Programmblock einen Fehler erwartet und diesen behandeln möchte"
   ]
  },
  {
   "cell_type": "code",
   "execution_count": 92,
   "id": "ce559960",
   "metadata": {},
   "outputs": [
    {
     "name": "stdout",
     "output_type": "stream",
     "text": [
      "Bitte nicht 5 eingeben: Mirko\n",
      "'5' ist nicht erlaubt\n"
     ]
    }
   ],
   "source": [
    "try:\n",
    "    user_input = int(input('Bitte nicht 5 eingeben: '))\n",
    "    print(f\"13 / (5 - {user_input}) = {13 / (5 - user_input)}\")\n",
    "except Exception:\n",
    "    print(\"'5' ist nicht erlaubt\")"
   ]
  },
  {
   "cell_type": "markdown",
   "id": "11a10c91",
   "metadata": {},
   "source": [
    "Allerdings werden nun **alle** Fehler abgefangen. Auch `TypeError` bei ungültiger Eingabe"
   ]
  },
  {
   "cell_type": "code",
   "execution_count": 91,
   "id": "62225a55",
   "metadata": {},
   "outputs": [
    {
     "name": "stdout",
     "output_type": "stream",
     "text": [
      "Bitte nicht 5 eingeben: Mirko\n"
     ]
    },
    {
     "ename": "ValueError",
     "evalue": "invalid literal for int() with base 10: 'Mirko'",
     "output_type": "error",
     "traceback": [
      "\u001b[0;31m---------------------------------------------------------------------------\u001b[0m",
      "\u001b[0;31mValueError\u001b[0m                                Traceback (most recent call last)",
      "\u001b[0;32m<ipython-input-91-e8e4c791b268>\u001b[0m in \u001b[0;36m<module>\u001b[0;34m\u001b[0m\n\u001b[1;32m      1\u001b[0m \u001b[0;32mtry\u001b[0m\u001b[0;34m:\u001b[0m\u001b[0;34m\u001b[0m\u001b[0;34m\u001b[0m\u001b[0m\n\u001b[0;32m----> 2\u001b[0;31m     \u001b[0muser_input\u001b[0m \u001b[0;34m=\u001b[0m \u001b[0mint\u001b[0m\u001b[0;34m(\u001b[0m\u001b[0minput\u001b[0m\u001b[0;34m(\u001b[0m\u001b[0;34m'Bitte nicht 5 eingeben: '\u001b[0m\u001b[0;34m)\u001b[0m\u001b[0;34m)\u001b[0m\u001b[0;34m\u001b[0m\u001b[0;34m\u001b[0m\u001b[0m\n\u001b[0m\u001b[1;32m      3\u001b[0m     \u001b[0mprint\u001b[0m\u001b[0;34m(\u001b[0m\u001b[0;34mf\"13 / (5 - {user_input}) = {13 / (5 - user_input)}\"\u001b[0m\u001b[0;34m)\u001b[0m\u001b[0;34m\u001b[0m\u001b[0;34m\u001b[0m\u001b[0m\n\u001b[1;32m      4\u001b[0m \u001b[0;32mexcept\u001b[0m \u001b[0mZeroDivisionError\u001b[0m\u001b[0;34m:\u001b[0m\u001b[0;34m\u001b[0m\u001b[0;34m\u001b[0m\u001b[0m\n\u001b[1;32m      5\u001b[0m     \u001b[0mprint\u001b[0m\u001b[0;34m(\u001b[0m\u001b[0;34m\"'5' ist nicht erlaubt\"\u001b[0m\u001b[0;34m)\u001b[0m\u001b[0;34m\u001b[0m\u001b[0;34m\u001b[0m\u001b[0m\n",
      "\u001b[0;31mValueError\u001b[0m: invalid literal for int() with base 10: 'Mirko'"
     ]
    }
   ],
   "source": [
    "try:\n",
    "    user_input = int(input('Bitte nicht 5 eingeben: '))\n",
    "    print(f\"13 / (5 - {user_input}) = {13 / (5 - user_input)}\")\n",
    "except ZeroDivisionError:\n",
    "    print(\"'5' ist nicht erlaubt\")"
   ]
  },
  {
   "cell_type": "markdown",
   "id": "a26eb9ee",
   "metadata": {},
   "source": [
    "Damit können auch mehrere Fehlerarten unterschiedlich behandelt werden"
   ]
  },
  {
   "cell_type": "code",
   "execution_count": 95,
   "id": "5c4889bd",
   "metadata": {},
   "outputs": [
    {
     "name": "stdout",
     "output_type": "stream",
     "text": [
      "Bitte nicht 5 eingeben: Mirko\n",
      "Unerwarteter Fehler: invalid literal for int() with base 10: 'Mirko'\n"
     ]
    }
   ],
   "source": [
    "try:\n",
    "    user_input = int(input('Bitte nicht 5 eingeben: '))\n",
    "    print(f\"13 / (5 - {user_input}) = {13 / (5 - user_input)}\")\n",
    "except ZeroDivisionError:\n",
    "    print(\"'5' ist nicht erlaubt\")\n",
    "#except ValueError:\n",
    "#    print(\"Eingabe nicht zulässig. Bitte keine Strings eingeben\")\n",
    "except Exception as e:\n",
    "    print(f\"Unerwarteter Fehler: {str(e)}\")"
   ]
  }
 ],
 "metadata": {
  "kernelspec": {
   "display_name": "Python 3",
   "language": "python",
   "name": "python3"
  },
  "language_info": {
   "codemirror_mode": {
    "name": "ipython",
    "version": 3
   },
   "file_extension": ".py",
   "mimetype": "text/x-python",
   "name": "python",
   "nbconvert_exporter": "python",
   "pygments_lexer": "ipython3",
   "version": "3.8.5"
  }
 },
 "nbformat": 4,
 "nbformat_minor": 5
}
