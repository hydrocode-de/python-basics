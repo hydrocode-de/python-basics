{
 "cells": [
  {
   "cell_type": "markdown",
   "source": [
    "# Funktionen\r\n",
    "\r\n",
    "Zusammenfassung:\r\n",
    "\r\n",
    "* Funktionen fassen beliebig viele Anweisungen zusammen\r\n",
    "* Funktionen bilden einen eigenen Namensraum\r\n",
    "* Funktionen sind von anderen Python-Modulen importierbar\r\n",
    "* Dokumentationen sind fest mit dem Funktions-Objekt verbunden\r\n",
    "\r\n",
    "## Grundlagen"
   ],
   "metadata": {}
  },
  {
   "cell_type": "code",
   "execution_count": null,
   "source": [
    "def hallo():\r\n",
    "    pass"
   ],
   "outputs": [],
   "metadata": {}
  },
  {
   "cell_type": "code",
   "execution_count": null,
   "source": [
    "def hallo():\r\n",
    "    print('Hallo Welt!')"
   ],
   "outputs": [],
   "metadata": {}
  },
  {
   "cell_type": "code",
   "execution_count": null,
   "source": [
    "def hallo():\r\n",
    "    return \"Hallo Welt!\"\r\n",
    "\r\n",
    "def print_hallo():\r\n",
    "    print(hallo())"
   ],
   "outputs": [],
   "metadata": {}
  },
  {
   "cell_type": "code",
   "execution_count": null,
   "source": [
    "hallo()"
   ],
   "outputs": [],
   "metadata": {}
  },
  {
   "cell_type": "code",
   "execution_count": null,
   "source": [
    "print(hallo())"
   ],
   "outputs": [],
   "metadata": {}
  },
  {
   "cell_type": "code",
   "execution_count": null,
   "source": [
    "print_hallo()"
   ],
   "outputs": [],
   "metadata": {}
  },
  {
   "cell_type": "code",
   "execution_count": null,
   "source": [
    "greeting = hallo()"
   ],
   "outputs": [],
   "metadata": {}
  },
  {
   "cell_type": "code",
   "execution_count": null,
   "source": [
    "print(greeting.lower())"
   ],
   "outputs": [],
   "metadata": {}
  },
  {
   "cell_type": "code",
   "execution_count": null,
   "source": [
    "def hallo(name):\r\n",
    "    return 'Hallo, %s' % name"
   ],
   "outputs": [],
   "metadata": {}
  },
  {
   "cell_type": "code",
   "execution_count": null,
   "source": [
    "hallo('Said')"
   ],
   "outputs": [],
   "metadata": {}
  },
  {
   "cell_type": "code",
   "execution_count": null,
   "source": [
    "def hallo(name='Welt'):\r\n",
    "    return 'Hallo, %s!' % name"
   ],
   "outputs": [],
   "metadata": {}
  },
  {
   "cell_type": "code",
   "execution_count": null,
   "source": [
    "hallo()"
   ],
   "outputs": [],
   "metadata": {}
  },
  {
   "cell_type": "code",
   "execution_count": null,
   "source": [
    "hallo('Said')"
   ],
   "outputs": [],
   "metadata": {}
  },
  {
   "cell_type": "markdown",
   "source": [
    "## Funktions-Objekte"
   ],
   "metadata": {}
  },
  {
   "cell_type": "code",
   "execution_count": null,
   "source": [
    "def hallo(name='Welt'):\r\n",
    "    \"\"\"\r\n",
    "    Gibt einen personalisierten Gruß zurück\r\n",
    "\r\n",
    "    Parameters\r\n",
    "    ----------\r\n",
    "    name : str\r\n",
    "        Der Name, der gegrüßt werden soll. Standardwert ist die gesamte Welt.\r\n",
    "    \r\n",
    "    Returns\r\n",
    "    -------\r\n",
    "    greeting : str\r\n",
    "        Das personalisierte Grußwort\r\n",
    "    \"\"\"\r\n",
    "    return 'Hallo, %s!' % name"
   ],
   "outputs": [],
   "metadata": {}
  },
  {
   "cell_type": "code",
   "execution_count": null,
   "source": [
    "print(hallo.__doc__)"
   ],
   "outputs": [],
   "metadata": {}
  },
  {
   "cell_type": "code",
   "execution_count": null,
   "source": [
    "print(hallo.__name__)"
   ],
   "outputs": [],
   "metadata": {}
  },
  {
   "cell_type": "markdown",
   "source": [
    "## Anonyme Funktionen und `map`"
   ],
   "metadata": {}
  },
  {
   "cell_type": "code",
   "execution_count": null,
   "source": [
    "all_names = ['Mirko', 'Said', 'Jakob']"
   ],
   "outputs": [],
   "metadata": {}
  },
  {
   "cell_type": "code",
   "execution_count": null,
   "source": [
    "for name in all_names:\r\n",
    "    print(hallo(name))"
   ],
   "outputs": [],
   "metadata": {}
  },
  {
   "cell_type": "code",
   "execution_count": null,
   "source": [
    "m = map(hallo, all_names)\r\n",
    "list(m)"
   ],
   "outputs": [],
   "metadata": {}
  },
  {
   "cell_type": "code",
   "execution_count": null,
   "source": [
    "list(map(hallo, all_names))"
   ],
   "outputs": [],
   "metadata": {}
  },
  {
   "cell_type": "code",
   "execution_count": null,
   "source": [
    "for _ in map(print, map(hallo, all_names)):\r\n",
    "    pass"
   ],
   "outputs": [],
   "metadata": {}
  },
  {
   "cell_type": "code",
   "execution_count": null,
   "source": [
    "for _ in map(lambda name: print(\"Hallo, %s\" % name), all_names):\r\n",
    "    pass"
   ],
   "outputs": [],
   "metadata": {}
  }
 ],
 "metadata": {
  "orig_nbformat": 4,
  "language_info": {
   "name": "python",
   "version": "3.7.6",
   "mimetype": "text/x-python",
   "codemirror_mode": {
    "name": "ipython",
    "version": 3
   },
   "pygments_lexer": "ipython3",
   "nbconvert_exporter": "python",
   "file_extension": ".py"
  },
  "kernelspec": {
   "name": "python3",
   "display_name": "Python 3.7.6 64-bit ('base': conda)"
  },
  "interpreter": {
   "hash": "07efdcd4b820c98a756949507a4d29d7862823915ec7477944641bea022f4f62"
  }
 },
 "nbformat": 4,
 "nbformat_minor": 2
}