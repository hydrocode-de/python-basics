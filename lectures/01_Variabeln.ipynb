{
 "cells": [
  {
   "cell_type": "markdown",
   "id": "2685bc8f",
   "metadata": {},
   "source": [
    "# 1. Variablen\n",
    "\n",
    "### Kurzzusammenfassung\n",
    "\n",
    "* Python ist nicht typsicher\n",
    "* Variablen müssen nicht deklariert werden\n",
    "* Variablen können implizit bereinigt und neu deklariert werden\n",
    "* Es gibt keine expliziten Pointer in Python\n",
    "* Implizite Typenumwandlungen"
   ]
  },
  {
   "cell_type": "markdown",
   "id": "024c96e6",
   "metadata": {},
   "source": [
    "Basistypen: `int`, `str`, `float`, `bool`, `tuple`, `list`, `dict`"
   ]
  },
  {
   "cell_type": "markdown",
   "id": "4efb0846",
   "metadata": {},
   "source": [
    "## Primitive Typen"
   ]
  },
  {
   "cell_type": "code",
   "execution_count": 2,
   "id": "300c10ad",
   "metadata": {},
   "outputs": [
    {
     "name": "stdout",
     "output_type": "stream",
     "text": [
      "5 <class 'int'>\n",
      "5.0 <class 'float'>\n"
     ]
    }
   ],
   "source": [
    "a = 5\n",
    "b = 5.0\n",
    "\n",
    "print(a, type(a))\n",
    "print(b, type(b))"
   ]
  },
  {
   "cell_type": "code",
   "execution_count": 14,
   "id": "8b102523",
   "metadata": {},
   "outputs": [
    {
     "data": {
      "text/plain": [
       "int"
      ]
     },
     "execution_count": 14,
     "metadata": {},
     "output_type": "execute_result"
    }
   ],
   "source": [
    "type(a)"
   ]
  },
  {
   "cell_type": "code",
   "execution_count": 9,
   "id": "2130fdfc",
   "metadata": {},
   "outputs": [
    {
     "name": "stdout",
     "output_type": "stream",
     "text": [
      "2\n"
     ]
    }
   ],
   "source": [
    "c = a - 1 * 3\n",
    "print(c)"
   ]
  },
  {
   "cell_type": "code",
   "execution_count": 10,
   "id": "da6fa5ee",
   "metadata": {},
   "outputs": [
    {
     "name": "stdout",
     "output_type": "stream",
     "text": [
      "This is a string\n",
      "This is also a string\n"
     ]
    }
   ],
   "source": [
    "s1 = 'This is a string'\n",
    "s2 = \"This is also a string\"\n",
    "\n",
    "print(s1)\n",
    "print(s2)"
   ]
  },
  {
   "cell_type": "code",
   "execution_count": 11,
   "id": "cc3ac1e8",
   "metadata": {},
   "outputs": [
    {
     "data": {
      "text/plain": [
       "'This is a string'"
      ]
     },
     "execution_count": 11,
     "metadata": {},
     "output_type": "execute_result"
    }
   ],
   "source": [
    "s1"
   ]
  },
  {
   "cell_type": "code",
   "execution_count": 19,
   "id": "b1d4e8d7",
   "metadata": {},
   "outputs": [
    {
     "name": "stdout",
     "output_type": "stream",
     "text": [
      "You can interchange 'Quotes' or \"escape' them\n"
     ]
    }
   ],
   "source": [
    "print(\"You can interchange 'Quotes' or \\\"escape\\' them\")"
   ]
  },
  {
   "cell_type": "code",
   "execution_count": 37,
   "id": "7997c2fa",
   "metadata": {},
   "outputs": [
    {
     "data": {
      "text/plain": [
       "'Hallo Hallo Hallo Hallo Hallo '"
      ]
     },
     "execution_count": 37,
     "metadata": {},
     "output_type": "execute_result"
    }
   ],
   "source": [
    "c = \"Hallo \" * 5\n",
    "c"
   ]
  },
  {
   "cell_type": "code",
   "execution_count": 43,
   "id": "edf96f15",
   "metadata": {},
   "outputs": [
    {
     "data": {
      "text/plain": [
       "[', ', ', ']"
      ]
     },
     "execution_count": 43,
     "metadata": {},
     "output_type": "execute_result"
    }
   ],
   "source": [
    "\", Peter, \".split('Peter')"
   ]
  },
  {
   "cell_type": "code",
   "execution_count": 60,
   "id": "376b3ad1",
   "metadata": {},
   "outputs": [
    {
     "data": {
      "text/plain": [
       "(bool, bool)"
      ]
     },
     "execution_count": 60,
     "metadata": {},
     "output_type": "execute_result"
    }
   ],
   "source": [
    "c = True\n",
    "d = False\n",
    "\n",
    "type(c), type(d)"
   ]
  },
  {
   "cell_type": "markdown",
   "id": "f67bec27",
   "metadata": {},
   "source": [
    "Python kann jede Variable in einen `bool` umwandeln, wobei alles was nicht `None` oder `0` ist, als `True` dargestellt wird:"
   ]
  },
  {
   "cell_type": "code",
   "execution_count": 61,
   "id": "ab457683",
   "metadata": {},
   "outputs": [
    {
     "data": {
      "text/plain": [
       "True"
      ]
     },
     "execution_count": 61,
     "metadata": {},
     "output_type": "execute_result"
    }
   ],
   "source": [
    "bool('Long String')"
   ]
  },
  {
   "cell_type": "code",
   "execution_count": 72,
   "id": "d83a77e3",
   "metadata": {},
   "outputs": [
    {
     "data": {
      "text/plain": [
       "(False, False, False)"
      ]
     },
     "execution_count": 72,
     "metadata": {},
     "output_type": "execute_result"
    }
   ],
   "source": [
    "bool(0.0), bool(0), bool(None)"
   ]
  },
  {
   "cell_type": "code",
   "execution_count": 79,
   "id": "fdbfbb07",
   "metadata": {
    "scrolled": true
   },
   "outputs": [
    {
     "data": {
      "text/plain": [
       "True"
      ]
     },
     "execution_count": 79,
     "metadata": {},
     "output_type": "execute_result"
    }
   ],
   "source": [
    "a = 'False'\n",
    "bool(str(False))\n",
    "#bool(a)"
   ]
  },
  {
   "cell_type": "code",
   "execution_count": 76,
   "id": "32c7a6b3",
   "metadata": {},
   "outputs": [
    {
     "name": "stdout",
     "output_type": "stream",
     "text": [
      "False\n",
      "True\n"
     ]
    }
   ],
   "source": [
    "print(a)\n",
    "print(bool(a))"
   ]
  },
  {
   "cell_type": "code",
   "execution_count": 97,
   "id": "49b15ad7",
   "metadata": {},
   "outputs": [
    {
     "data": {
      "text/plain": [
       "'Der Inhalt von a ist: 5.0'"
      ]
     },
     "execution_count": 97,
     "metadata": {},
     "output_type": "execute_result"
    }
   ],
   "source": [
    "f'Der Inhalt von a ist: {b}'"
   ]
  },
  {
   "cell_type": "markdown",
   "id": "5682abf7",
   "metadata": {},
   "source": [
    "## Container Typen\n",
    "\n",
    "Die zwei wichtigsten Container Typen sind `tuple` und `list`. \n",
    "\n",
    "* `tuple` sind immutable\n",
    "* `list` ist flexibler"
   ]
  },
  {
   "cell_type": "code",
   "execution_count": 98,
   "id": "89840261",
   "metadata": {},
   "outputs": [
    {
     "name": "stdout",
     "output_type": "stream",
     "text": [
      "(1, 2, 3, 4)\n",
      "[1, 2, 3, 4]\n"
     ]
    }
   ],
   "source": [
    "tup = (1,2,3,4)\n",
    "lst = [1,2,3,4]\n",
    "\n",
    "print(tup)\n",
    "print(lst)"
   ]
  },
  {
   "cell_type": "code",
   "execution_count": 99,
   "id": "cc7fe61a",
   "metadata": {},
   "outputs": [
    {
     "name": "stdout",
     "output_type": "stream",
     "text": [
      "1.43 ms ± 4.47 µs per loop (mean ± std. dev. of 7 runs, 1000 loops each)\n"
     ]
    }
   ],
   "source": [
    "%timeit tuple(iter(range(100000)))"
   ]
  },
  {
   "cell_type": "code",
   "execution_count": 100,
   "id": "56706987",
   "metadata": {},
   "outputs": [
    {
     "name": "stdout",
     "output_type": "stream",
     "text": [
      "1.35 ms ± 1.74 µs per loop (mean ± std. dev. of 7 runs, 1000 loops each)\n"
     ]
    }
   ],
   "source": [
    "%timeit list(iter(range(100000)))"
   ]
  },
  {
   "cell_type": "markdown",
   "id": "6676edb7",
   "metadata": {},
   "source": [
    "Die Elemente innhalb der Struktur können über einen Index aufgerufen werden."
   ]
  },
  {
   "cell_type": "code",
   "execution_count": 101,
   "id": "a5e8d614",
   "metadata": {
    "scrolled": true
   },
   "outputs": [
    {
     "name": "stdout",
     "output_type": "stream",
     "text": [
      "3\n",
      "1\n"
     ]
    }
   ],
   "source": [
    "print(tup[2])\n",
    "print(lst[0])"
   ]
  },
  {
   "cell_type": "markdown",
   "id": "d69b81ef",
   "metadata": {},
   "source": [
    "Oder über *slices*:"
   ]
  },
  {
   "cell_type": "code",
   "execution_count": 102,
   "id": "8a1a57ef",
   "metadata": {},
   "outputs": [
    {
     "data": {
      "text/plain": [
       "(1, 2, 3)"
      ]
     },
     "execution_count": 102,
     "metadata": {},
     "output_type": "execute_result"
    }
   ],
   "source": [
    "tup[:-1]"
   ]
  },
  {
   "cell_type": "code",
   "execution_count": 103,
   "id": "211c2d09",
   "metadata": {},
   "outputs": [
    {
     "data": {
      "text/plain": [
       "[2, 3]"
      ]
     },
     "execution_count": 103,
     "metadata": {},
     "output_type": "execute_result"
    }
   ],
   "source": [
    "lst[1:3]"
   ]
  },
  {
   "cell_type": "markdown",
   "id": "4393c6b4",
   "metadata": {},
   "source": [
    "Aber Tuple können nicht verändert werden:"
   ]
  },
  {
   "cell_type": "code",
   "execution_count": 104,
   "id": "43a92b1e",
   "metadata": {},
   "outputs": [
    {
     "name": "stdout",
     "output_type": "stream",
     "text": [
      "[1, 2, 3, 4]\n",
      "[1, 42, 3, 4]\n"
     ]
    }
   ],
   "source": [
    "print(lst)\n",
    "lst[1] = 42\n",
    "print(lst)"
   ]
  },
  {
   "cell_type": "code",
   "execution_count": 105,
   "id": "51cd5578",
   "metadata": {},
   "outputs": [
    {
     "ename": "TypeError",
     "evalue": "'tuple' object does not support item assignment",
     "output_type": "error",
     "traceback": [
      "\u001b[0;31m---------------------------------------------------------------------------\u001b[0m",
      "\u001b[0;31mTypeError\u001b[0m                                 Traceback (most recent call last)",
      "\u001b[0;32m<ipython-input-105-7519d24604cd>\u001b[0m in \u001b[0;36m<module>\u001b[0;34m\u001b[0m\n\u001b[0;32m----> 1\u001b[0;31m \u001b[0mtup\u001b[0m\u001b[0;34m[\u001b[0m\u001b[0;36m1\u001b[0m\u001b[0;34m]\u001b[0m \u001b[0;34m=\u001b[0m \u001b[0;36m42\u001b[0m\u001b[0;34m\u001b[0m\u001b[0;34m\u001b[0m\u001b[0m\n\u001b[0m",
      "\u001b[0;31mTypeError\u001b[0m: 'tuple' object does not support item assignment"
     ]
    }
   ],
   "source": [
    "tup[1] = 42"
   ]
  },
  {
   "cell_type": "markdown",
   "id": "cc83ab3c",
   "metadata": {},
   "source": [
    "Eine weitere hilfreiche Funktion ist `set()`, welche weder eine Liste noch ein Tuple ausgibt:"
   ]
  },
  {
   "cell_type": "code",
   "execution_count": 106,
   "id": "1fac766c",
   "metadata": {},
   "outputs": [
    {
     "name": "stdout",
     "output_type": "stream",
     "text": [
      "[1, 42, 3, 4, 5, 4, 5]\n",
      "{1, 3, 4, 5, 42}\n"
     ]
    }
   ],
   "source": [
    "lst.append(5)\n",
    "lst.extend([4, 5])\n",
    "print(lst)\n",
    "print(set(lst))"
   ]
  },
  {
   "cell_type": "code",
   "execution_count": 111,
   "id": "860851c2",
   "metadata": {},
   "outputs": [
    {
     "data": {
      "text/plain": [
       "set"
      ]
     },
     "execution_count": 111,
     "metadata": {},
     "output_type": "execute_result"
    }
   ],
   "source": [
    "type(set(lst))"
   ]
  },
  {
   "cell_type": "code",
   "execution_count": 113,
   "id": "da578bc8",
   "metadata": {},
   "outputs": [
    {
     "data": {
      "text/plain": [
       "[1, 2.0, 3, 4]"
      ]
     },
     "execution_count": 113,
     "metadata": {},
     "output_type": "execute_result"
    }
   ],
   "source": [
    "[1, 2.0, 3, 4]"
   ]
  },
  {
   "cell_type": "markdown",
   "id": "7a44b058",
   "metadata": {},
   "source": [
    "## Dictionaries\n",
    "\n",
    "Dictionaries sind evtl. die wichtigste und flexibleste Struktur in Python. \n",
    "\n",
    "* `dict` speichert `key=value` Paare\n",
    "* der `value` kann dabei ein Objekt aller Python Klassen sein\n",
    "* der key ist üblicherweise ein `str` oder `int`, es können aber alle primitiven Typen verwendet werden.\n",
    "* der `value` kann selber auch wieder ein `dict`sein"
   ]
  },
  {
   "cell_type": "code",
   "execution_count": 120,
   "id": "3671164d",
   "metadata": {},
   "outputs": [
    {
     "data": {
      "text/plain": [
       "{'foo': 'bar'}"
      ]
     },
     "execution_count": 120,
     "metadata": {},
     "output_type": "execute_result"
    }
   ],
   "source": [
    "{'foo': 'bar'}"
   ]
  },
  {
   "cell_type": "code",
   "execution_count": 118,
   "id": "98c01265",
   "metadata": {},
   "outputs": [
    {
     "data": {
      "text/plain": [
       "{'foo': 'bar'}"
      ]
     },
     "execution_count": 118,
     "metadata": {},
     "output_type": "execute_result"
    }
   ],
   "source": [
    "dict(foo='bar')"
   ]
  },
  {
   "cell_type": "code",
   "execution_count": 121,
   "id": "a6d645b8",
   "metadata": {},
   "outputs": [
    {
     "name": "stdout",
     "output_type": "stream",
     "text": [
      "{'foo': 'bar', 'message': {'amount': 4, 'content': 'Hello, World', 'submit': True}}\n"
     ]
    }
   ],
   "source": [
    "d = dict(foo='bar', message=dict(amount=4, content='Hello, World', submit=True))\n",
    "\n",
    "print(d)"
   ]
  },
  {
   "cell_type": "markdown",
   "id": "2469fa1b",
   "metadata": {},
   "source": [
    "Das `dict` bietet hilfreiche Methoden um z.b. auf die `keys` oder `values` zuzugreifen. Es werden Instanzen von spezialisierten Klassen zurückgegeben, die einem `tuple`sehr ähnlich sind. `dict_keys` dürfen zusätzlich keine Duplikate beinhalten."
   ]
  },
  {
   "cell_type": "code",
   "execution_count": 122,
   "id": "9508e293",
   "metadata": {},
   "outputs": [
    {
     "data": {
      "text/plain": [
       "dict_keys(['foo', 'message'])"
      ]
     },
     "execution_count": 122,
     "metadata": {},
     "output_type": "execute_result"
    }
   ],
   "source": [
    "d.keys()"
   ]
  },
  {
   "cell_type": "code",
   "execution_count": 123,
   "id": "c28bd82b",
   "metadata": {},
   "outputs": [
    {
     "data": {
      "text/plain": [
       "dict_values(['bar', {'amount': 4, 'content': 'Hello, World', 'submit': True}])"
      ]
     },
     "execution_count": 123,
     "metadata": {},
     "output_type": "execute_result"
    }
   ],
   "source": [
    "d.values()"
   ]
  },
  {
   "cell_type": "code",
   "execution_count": 124,
   "id": "1d071886",
   "metadata": {},
   "outputs": [
    {
     "data": {
      "text/plain": [
       "(dict_values, dict_keys)"
      ]
     },
     "execution_count": 124,
     "metadata": {},
     "output_type": "execute_result"
    }
   ],
   "source": [
    "type(d.values()), type(d.keys())"
   ]
  },
  {
   "cell_type": "code",
   "execution_count": 127,
   "id": "605f7f6d",
   "metadata": {},
   "outputs": [
    {
     "name": "stdout",
     "output_type": "stream",
     "text": [
      "dict_keys(['foo', 'message'])\n"
     ]
    },
    {
     "ename": "TypeError",
     "evalue": "'dict_keys' object is not subscriptable",
     "output_type": "error",
     "traceback": [
      "\u001b[0;31m---------------------------------------------------------------------------\u001b[0m",
      "\u001b[0;31mTypeError\u001b[0m                                 Traceback (most recent call last)",
      "\u001b[0;32m<ipython-input-127-7a709167d88d>\u001b[0m in \u001b[0;36m<module>\u001b[0;34m\u001b[0m\n\u001b[1;32m      1\u001b[0m \u001b[0mkeys\u001b[0m \u001b[0;34m=\u001b[0m \u001b[0md\u001b[0m\u001b[0;34m.\u001b[0m\u001b[0mkeys\u001b[0m\u001b[0;34m(\u001b[0m\u001b[0;34m)\u001b[0m\u001b[0;34m\u001b[0m\u001b[0;34m\u001b[0m\u001b[0m\n\u001b[1;32m      2\u001b[0m \u001b[0mprint\u001b[0m\u001b[0;34m(\u001b[0m\u001b[0mkeys\u001b[0m\u001b[0;34m)\u001b[0m\u001b[0;34m\u001b[0m\u001b[0;34m\u001b[0m\u001b[0m\n\u001b[0;32m----> 3\u001b[0;31m \u001b[0mkeys\u001b[0m\u001b[0;34m[\u001b[0m\u001b[0;36m1\u001b[0m\u001b[0;34m]\u001b[0m\u001b[0;34m\u001b[0m\u001b[0;34m\u001b[0m\u001b[0m\n\u001b[0m",
      "\u001b[0;31mTypeError\u001b[0m: 'dict_keys' object is not subscriptable"
     ]
    }
   ],
   "source": [
    "keys = d.keys()\n",
    "print(keys)\n",
    "keys[1]"
   ]
  },
  {
   "cell_type": "markdown",
   "id": "8cd6ffca",
   "metadata": {},
   "source": [
    "Sie können aber problemlos in eine normale `list` überführt werden."
   ]
  },
  {
   "cell_type": "code",
   "execution_count": 128,
   "id": "0bcb8b91",
   "metadata": {},
   "outputs": [
    {
     "name": "stdout",
     "output_type": "stream",
     "text": [
      "['bar', {'amount': 4, 'content': 'Hello, World', 'submit': True}]\n"
     ]
    }
   ],
   "source": [
    "vals = list(d.values())\n",
    "print(vals)"
   ]
  },
  {
   "cell_type": "code",
   "execution_count": 130,
   "id": "50bfee6d",
   "metadata": {},
   "outputs": [
    {
     "name": "stdout",
     "output_type": "stream",
     "text": [
      "['bar', {'amount': 4, 'content': 'Hello, World', 'submit': True}, 'foobar']\n"
     ]
    }
   ],
   "source": [
    "vals.append('foobar')\n",
    "print(vals)"
   ]
  },
  {
   "cell_type": "code",
   "execution_count": 131,
   "id": "10c91e7c",
   "metadata": {},
   "outputs": [
    {
     "data": {
      "text/plain": [
       "{'foo': 'bar',\n",
       " 'message': {'amount': 4, 'content': 'Hello, World', 'submit': True}}"
      ]
     },
     "execution_count": 131,
     "metadata": {},
     "output_type": "execute_result"
    }
   ],
   "source": [
    "d"
   ]
  },
  {
   "cell_type": "code",
   "execution_count": 134,
   "id": "cfaa4d94",
   "metadata": {},
   "outputs": [
    {
     "data": {
      "text/plain": [
       "dict_keys(['amount', 'content', 'submit'])"
      ]
     },
     "execution_count": 134,
     "metadata": {},
     "output_type": "execute_result"
    }
   ],
   "source": [
    "d['message'].keys()"
   ]
  },
  {
   "cell_type": "code",
   "execution_count": 143,
   "id": "958e6d9d",
   "metadata": {},
   "outputs": [
    {
     "data": {
      "text/plain": [
       "{'amount', 'content', 'foo', 'message', 'submit'}"
      ]
     },
     "execution_count": 143,
     "metadata": {},
     "output_type": "execute_result"
    }
   ],
   "source": [
    "outer_keys = list(d.keys())\n",
    "inner_keys = list(d['message'].keys())\n",
    "\n",
    "outer_keys.extend(inner_keys)\n",
    "\n",
    "set(outer_keys)"
   ]
  },
  {
   "cell_type": "code",
   "execution_count": 146,
   "id": "07fcca62",
   "metadata": {},
   "outputs": [
    {
     "name": "stdout",
     "output_type": "stream",
     "text": [
      "{'foo': 'bar', 'message': {'amount': 5}, 'baz': 42}\n"
     ]
    }
   ],
   "source": [
    "d2 = dict(baz=42, message=dict(amount=5))\n",
    "\n",
    "d.update(d2)\n",
    "\n",
    "print(d)"
   ]
  },
  {
   "cell_type": "markdown",
   "id": "e8c9fa01",
   "metadata": {},
   "source": [
    "## `collections`\n",
    "\n",
    "Das Standardpaket `collections` bietet weitere hilfreiche Klassen für viele typische use-cases bei der Arbeit mit container typen, die bei der Entwicklung viel Arbeit abnehmen können."
   ]
  },
  {
   "cell_type": "code",
   "execution_count": 147,
   "id": "73863e5a",
   "metadata": {},
   "outputs": [],
   "source": [
    "import collections"
   ]
  },
  {
   "cell_type": "markdown",
   "id": "4d112319",
   "metadata": {},
   "source": [
    "Der `Counter` erstellt ein `set` der übergebenen Elemente und summiert die Anzahl der Auftitte."
   ]
  },
  {
   "cell_type": "code",
   "execution_count": 165,
   "id": "92d9cc2b",
   "metadata": {},
   "outputs": [
    {
     "data": {
      "text/plain": [
       "Counter({'T': 1,\n",
       "         'h': 2,\n",
       "         'e': 3,\n",
       "         ' ': 8,\n",
       "         'q': 1,\n",
       "         'u': 2,\n",
       "         'i': 1,\n",
       "         'c': 1,\n",
       "         'k': 1,\n",
       "         'b': 1,\n",
       "         'r': 2,\n",
       "         'o': 4,\n",
       "         'w': 1,\n",
       "         'n': 1,\n",
       "         'f': 1,\n",
       "         'x': 1,\n",
       "         'j': 1,\n",
       "         'm': 1,\n",
       "         'p': 1,\n",
       "         's': 1,\n",
       "         'v': 1,\n",
       "         't': 1,\n",
       "         'l': 1,\n",
       "         'a': 1,\n",
       "         'z': 1,\n",
       "         'y': 1,\n",
       "         'd': 1,\n",
       "         'g': 1})"
      ]
     },
     "execution_count": 165,
     "metadata": {},
     "output_type": "execute_result"
    }
   ],
   "source": [
    "c = collections.Counter('The quick brown fox jumps over the lazy dog')\n",
    "c"
   ]
  },
  {
   "cell_type": "code",
   "execution_count": 150,
   "id": "5becfd68",
   "metadata": {},
   "outputs": [
    {
     "data": {
      "text/plain": [
       "3"
      ]
     },
     "execution_count": 150,
     "metadata": {},
     "output_type": "execute_result"
    }
   ],
   "source": [
    "c['e']"
   ]
  },
  {
   "cell_type": "code",
   "execution_count": 151,
   "id": "917b7478",
   "metadata": {},
   "outputs": [
    {
     "data": {
      "text/plain": [
       "0"
      ]
     },
     "execution_count": 151,
     "metadata": {},
     "output_type": "execute_result"
    }
   ],
   "source": [
    "c['P']"
   ]
  },
  {
   "cell_type": "code",
   "execution_count": 152,
   "id": "0302b0e7",
   "metadata": {},
   "outputs": [
    {
     "data": {
      "text/plain": [
       "[(' ', 8), ('o', 4), ('e', 3)]"
      ]
     },
     "execution_count": 152,
     "metadata": {},
     "output_type": "execute_result"
    }
   ],
   "source": [
    "c.most_common(3)"
   ]
  },
  {
   "cell_type": "code",
   "execution_count": 161,
   "id": "daae4a3a",
   "metadata": {},
   "outputs": [
    {
     "data": {
      "text/plain": [
       "Counter({'T': 1,\n",
       "         'h': 2,\n",
       "         'e': 45,\n",
       "         ' ': 8,\n",
       "         'q': 1,\n",
       "         'u': 2,\n",
       "         'i': 1,\n",
       "         'c': 1,\n",
       "         'k': 1,\n",
       "         'b': 1,\n",
       "         'r': 2,\n",
       "         'o': 4,\n",
       "         'w': 1,\n",
       "         'n': 1,\n",
       "         'f': 1,\n",
       "         'x': 1,\n",
       "         'j': 1,\n",
       "         'm': 1,\n",
       "         'p': 1,\n",
       "         's': 1,\n",
       "         'v': 1,\n",
       "         't': 1,\n",
       "         'l': 1,\n",
       "         'a': 1,\n",
       "         'z': 1,\n",
       "         'y': 1,\n",
       "         'd': 1,\n",
       "         'g': 1})"
      ]
     },
     "execution_count": 161,
     "metadata": {},
     "output_type": "execute_result"
    }
   ],
   "source": [
    "c.update(e=14)\n",
    "c"
   ]
  },
  {
   "cell_type": "code",
   "execution_count": 162,
   "id": "99b752f5",
   "metadata": {},
   "outputs": [
    {
     "data": {
      "text/plain": [
       "{'T': 1,\n",
       " 'h': 2,\n",
       " 'e': 14,\n",
       " ' ': 8,\n",
       " 'q': 1,\n",
       " 'u': 2,\n",
       " 'i': 1,\n",
       " 'c': 1,\n",
       " 'k': 1,\n",
       " 'b': 1,\n",
       " 'r': 2,\n",
       " 'o': 4,\n",
       " 'w': 1,\n",
       " 'n': 1,\n",
       " 'f': 1,\n",
       " 'x': 1,\n",
       " 'j': 1,\n",
       " 'm': 1,\n",
       " 'p': 1,\n",
       " 's': 1,\n",
       " 'v': 1,\n",
       " 't': 1,\n",
       " 'l': 1,\n",
       " 'a': 1,\n",
       " 'z': 1,\n",
       " 'y': 1,\n",
       " 'd': 1,\n",
       " 'g': 1}"
      ]
     },
     "execution_count": 162,
     "metadata": {},
     "output_type": "execute_result"
    }
   ],
   "source": [
    "as_d = dict(c)\n",
    "as_d.update(dict(e=14))\n",
    "as_d"
   ]
  },
  {
   "cell_type": "code",
   "execution_count": 163,
   "id": "b2dcde6c",
   "metadata": {},
   "outputs": [
    {
     "name": "stdout",
     "output_type": "stream",
     "text": [
      "Counter({'Linux': 3, 'Windows': 2, 'Mac': 1})\n"
     ]
    }
   ],
   "source": [
    "c2 = collections.Counter(['Linux', 'Windows','Linux', 'Linux', 'Mac', 'Windows'])\n",
    "print(c2)"
   ]
  },
  {
   "cell_type": "markdown",
   "id": "469cea3b",
   "metadata": {},
   "source": [
    "### deque\n",
    "\n",
    "Die `deque` ist eine Liste, an die besonders effektiv an beiden Enden Elemente hinzugefügt werden können:"
   ]
  },
  {
   "cell_type": "code",
   "execution_count": 170,
   "id": "f9e10bef",
   "metadata": {},
   "outputs": [
    {
     "data": {
      "text/plain": [
       "['Anne-Frank', 'Lessing', 'Goethe', 'Kant', 'Lessing']"
      ]
     },
     "execution_count": 170,
     "metadata": {},
     "output_type": "execute_result"
    }
   ],
   "source": [
    "l = ['Lessing', 'Goethe', 'Kant', 'Lessing']\n",
    "\n",
    "['Anne-Frank'] + l"
   ]
  },
  {
   "cell_type": "code",
   "execution_count": 166,
   "id": "c112654b",
   "metadata": {},
   "outputs": [
    {
     "name": "stdout",
     "output_type": "stream",
     "text": [
      "deque(['Lessing', 'Goethe', 'Kant', 'Lessing'])\n"
     ]
    }
   ],
   "source": [
    "next_jobs = collections.deque(['Lessing', 'Goethe', 'Kant', 'Lessing'])\n",
    "print(next_jobs)"
   ]
  },
  {
   "cell_type": "code",
   "execution_count": 167,
   "id": "62c1c957",
   "metadata": {},
   "outputs": [
    {
     "name": "stdout",
     "output_type": "stream",
     "text": [
      "deque(['Anne-Frank', 'Lessing', 'Goethe', 'Kant', 'Lessing'])\n"
     ]
    }
   ],
   "source": [
    "next_jobs.appendleft('Anne-Frank')\n",
    "print(next_jobs)"
   ]
  },
  {
   "cell_type": "code",
   "execution_count": 171,
   "id": "098cd2eb",
   "metadata": {},
   "outputs": [
    {
     "data": {
      "text/plain": [
       "'Lessing'"
      ]
     },
     "execution_count": 171,
     "metadata": {},
     "output_type": "execute_result"
    }
   ],
   "source": [
    "next_jobs.pop()"
   ]
  },
  {
   "cell_type": "code",
   "execution_count": 172,
   "id": "b5971491",
   "metadata": {},
   "outputs": [
    {
     "data": {
      "text/plain": [
       "'Anne-Frank'"
      ]
     },
     "execution_count": 172,
     "metadata": {},
     "output_type": "execute_result"
    }
   ],
   "source": [
    "next_jobs.popleft()"
   ]
  },
  {
   "cell_type": "code",
   "execution_count": 173,
   "id": "de1b587f",
   "metadata": {},
   "outputs": [
    {
     "name": "stdout",
     "output_type": "stream",
     "text": [
      "deque(['Lessing', 'Goethe', 'Kant'])\n"
     ]
    }
   ],
   "source": [
    "print(next_jobs)"
   ]
  },
  {
   "cell_type": "code",
   "execution_count": 174,
   "id": "9e8b5862",
   "metadata": {},
   "outputs": [
    {
     "data": {
      "text/plain": [
       "deque(['a', 'b', 'c', 'd', 'e', 'f', 'g'])"
      ]
     },
     "execution_count": 174,
     "metadata": {},
     "output_type": "execute_result"
    }
   ],
   "source": [
    "mut = collections.deque('abcdefg')\n",
    "mut"
   ]
  },
  {
   "cell_type": "code",
   "execution_count": 175,
   "id": "944933e7",
   "metadata": {},
   "outputs": [
    {
     "data": {
      "text/plain": [
       "deque(['e', 'f', 'g', 'a', 'b', 'c', 'd'])"
      ]
     },
     "execution_count": 175,
     "metadata": {},
     "output_type": "execute_result"
    }
   ],
   "source": [
    "mut.rotate(3)\n",
    "mut"
   ]
  },
  {
   "cell_type": "code",
   "execution_count": 176,
   "id": "f05d6e90",
   "metadata": {},
   "outputs": [
    {
     "data": {
      "text/plain": [
       "deque(['g', 'a', 'b', 'c', 'd', 'e', 'f'])"
      ]
     },
     "execution_count": 176,
     "metadata": {},
     "output_type": "execute_result"
    }
   ],
   "source": [
    "mut.rotate(-2)\n",
    "mut"
   ]
  },
  {
   "cell_type": "code",
   "execution_count": 177,
   "id": "2ca41187",
   "metadata": {},
   "outputs": [
    {
     "data": {
      "text/plain": [
       "deque(['f', 'e', 'd', 'c', 'b', 'a', 'g'])"
      ]
     },
     "execution_count": 177,
     "metadata": {},
     "output_type": "execute_result"
    }
   ],
   "source": [
    "mut.reverse()\n",
    "mut"
   ]
  },
  {
   "cell_type": "code",
   "execution_count": null,
   "id": "9ec517cf",
   "metadata": {},
   "outputs": [],
   "source": []
  },
  {
   "cell_type": "code",
   "execution_count": 178,
   "id": "b27f299f",
   "metadata": {},
   "outputs": [
    {
     "data": {
      "text/plain": [
       "deque(['setup', 'install', 'setup', 'buy new'])"
      ]
     },
     "execution_count": 178,
     "metadata": {},
     "output_type": "execute_result"
    }
   ],
   "source": [
    "todos = collections.deque(['setup', 'install', 'setup', 'buy new'], maxlen=5)\n",
    "todos"
   ]
  },
  {
   "cell_type": "code",
   "execution_count": 179,
   "id": "b1eff783",
   "metadata": {},
   "outputs": [
    {
     "data": {
      "text/plain": [
       "deque(['setup', 'install', 'setup', 'buy new', 'setup'])"
      ]
     },
     "execution_count": 179,
     "metadata": {},
     "output_type": "execute_result"
    }
   ],
   "source": [
    "todos.append('setup')\n",
    "todos"
   ]
  },
  {
   "cell_type": "code",
   "execution_count": 180,
   "id": "f73ad127",
   "metadata": {},
   "outputs": [
    {
     "data": {
      "text/plain": [
       "deque(['install', 'setup', 'buy new', 'setup', 'install'])"
      ]
     },
     "execution_count": 180,
     "metadata": {},
     "output_type": "execute_result"
    }
   ],
   "source": [
    "todos.append('install')\n",
    "todos"
   ]
  },
  {
   "cell_type": "code",
   "execution_count": 181,
   "id": "03381d61",
   "metadata": {},
   "outputs": [
    {
     "data": {
      "text/plain": [
       "deque(['buy new', 'install', 'setup', 'buy new', 'setup'])"
      ]
     },
     "execution_count": 181,
     "metadata": {},
     "output_type": "execute_result"
    }
   ],
   "source": [
    "todos.appendleft('buy new')\n",
    "todos"
   ]
  }
 ],
 "metadata": {
  "kernelspec": {
   "display_name": "Python 3",
   "language": "python",
   "name": "python3"
  },
  "language_info": {
   "codemirror_mode": {
    "name": "ipython",
    "version": 3
   },
   "file_extension": ".py",
   "mimetype": "text/x-python",
   "name": "python",
   "nbconvert_exporter": "python",
   "pygments_lexer": "ipython3",
   "version": "3.8.5"
  }
 },
 "nbformat": 4,
 "nbformat_minor": 5
}
