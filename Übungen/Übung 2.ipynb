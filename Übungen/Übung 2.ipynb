{
 "cells": [
  {
   "cell_type": "markdown",
   "id": "5e2d6160",
   "metadata": {},
   "source": [
    "# Übung 2\n",
    "\n",
    "## 2.1 Datei schreiben"
   ]
  },
  {
   "cell_type": "markdown",
   "id": "62cbdf85",
   "metadata": {},
   "source": [
    "Schreibe eine Funktion, die ein String-Argument erwartet, und den Inhalt dieses Strings in eine Datei schreibt. Der Dateiname soll optional vom User gegeben werden können, sonst als Standard `data.log` im aktuellen Verzeichnis verwenden.\n",
    "Verwende zum entwickeln den String `content`"
   ]
  },
  {
   "cell_type": "code",
   "execution_count": null,
   "id": "0a9476bb",
   "metadata": {},
   "outputs": [],
   "source": [
    "content = \"\"\"\n",
    "[14.02.2020]: 5 - server booted\n",
    "[14.02.2020]: 1 - Critical server error\n",
    "[15.02.2020]: 5 - server rebooted\n",
    "[16.02.2020]: 3 - client connected\n",
    "[18.02.2020]: 1 - Critical server error\n",
    "[18.02.2020]: 5 - server rebooted\n",
    "\"\"\""
   ]
  },
  {
   "cell_type": "code",
   "execution_count": null,
   "id": "230a04b7",
   "metadata": {},
   "outputs": [],
   "source": [
    "# Lösung\n",
    "\n"
   ]
  },
  {
   "cell_type": "markdown",
   "id": "7c157030",
   "metadata": {},
   "source": [
    "## 2.2 CSV parsen\n",
    "\n",
    "Nutze die Datei `data.csv` aus der letzten Übung. Schreibe eine Funktion, die den Dateinamen erwatet. Die Funktion soll den Inhalt der Datei lesen und in das CSV Format überführen. Mit einem optionalen Parameter `save_path` kann der User optional einen Pfad für die CSV Datei angeben und diese zu speichern. Wird der Parameter nicht gesetzt, soll nur der geparste Inhalt als String zurück gegeben werden"
   ]
  },
  {
   "cell_type": "code",
   "execution_count": null,
   "id": "88a4f638",
   "metadata": {},
   "outputs": [],
   "source": [
    "# Lösung\n",
    "\n",
    "\n"
   ]
  },
  {
   "cell_type": "markdown",
   "id": "a64c38b8",
   "metadata": {},
   "source": [
    "*Zusatzaufgabe*: Definiere einen weitere optionalen Parameter, mit dem der User das Standard-Trennzeichen `,` überschreiben kann."
   ]
  },
  {
   "cell_type": "markdown",
   "id": "0db19ce6",
   "metadata": {},
   "source": [
    "##  2.3 CLI schreiben\n",
    "\n",
    "Konvertiere die Funktion aus 2.2 in ein Python-Skript, das die vorhandenen Parameter aus Übergabe-Werten an das Skript auslesen kann. (z.b. `sys.argv` oder `argparse`).\n",
    "\n",
    "Für diese Augabe muss eine extra Python Datei angelegt werden. Nennen diese `csv_parse.py`, dann kann Sie z.b. wie unten gezeigt aufgerufen werden:"
   ]
  },
  {
   "cell_type": "code",
   "execution_count": null,
   "id": "675f4971",
   "metadata": {},
   "outputs": [],
   "source": [
    "%%bash\n",
    "python csv_parse.py ./data.csv --separator=;"
   ]
  }
 ],
 "metadata": {
  "kernelspec": {
   "display_name": "Python 3",
   "language": "python",
   "name": "python3"
  },
  "language_info": {
   "codemirror_mode": {
    "name": "ipython",
    "version": 3
   },
   "file_extension": ".py",
   "mimetype": "text/x-python",
   "name": "python",
   "nbconvert_exporter": "python",
   "pygments_lexer": "ipython3",
   "version": "3.8.5"
  }
 },
 "nbformat": 4,
 "nbformat_minor": 5
}
